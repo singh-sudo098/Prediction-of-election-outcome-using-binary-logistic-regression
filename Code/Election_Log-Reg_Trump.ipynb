{
 "cells": [
  {
   "cell_type": "code",
   "execution_count": 49,
   "metadata": {},
   "outputs": [],
   "source": [
    "library(haven)\n",
    "library(tidyverse)\n",
    "library(mlbench)\n",
    "library(MASS)\n",
    "library(pROC)\n",
    "library(ResourceSelection)\n",
    "library(DescTools)\n",
    "library(survey)\n",
    "library(corrplot)\n",
    "library(vcd)"
   ]
  },
  {
   "cell_type": "code",
   "execution_count": 48,
   "metadata": {},
   "outputs": [
    {
     "name": "stderr",
     "output_type": "stream",
     "text": [
      "Installing package into 'C:/Users/Jaswinder Singh/Documents/R/win-library/4.0'\n",
      "(as 'lib' is unspecified)\n",
      "\n"
     ]
    },
    {
     "name": "stdout",
     "output_type": "stream",
     "text": [
      "package 'vcd' successfully unpacked and MD5 sums checked\n",
      "\n",
      "The downloaded binary packages are in\n",
      "\tC:\\Users\\Jaswinder Singh\\AppData\\Local\\Temp\\RtmpEHipX6\\downloaded_packages\n"
     ]
    }
   ],
   "source": [
    "install.packages('vcd')"
   ]
  },
  {
   "cell_type": "code",
   "execution_count": 3,
   "metadata": {},
   "outputs": [],
   "source": [
    "elec_df <- read.csv('C:/Users/Jaswinder Singh/Downloads/Statistics/Data/Logistic Regression/Election_final2.csv')"
   ]
  },
  {
   "cell_type": "code",
   "execution_count": 4,
   "metadata": {},
   "outputs": [
    {
     "data": {
      "text/html": [
       "<table>\n",
       "<caption>A data.frame: 6 × 19</caption>\n",
       "<thead>\n",
       "\t<tr><th></th><th scope=col>LANGUAGE</th><th scope=col>Support_Trump</th><th scope=col>Support_Clinton</th><th scope=col>Age_Category</th><th scope=col>Sex</th><th scope=col>Education_Category</th><th scope=col>Education_Category2</th><th scope=col>Hispanic</th><th scope=col>Combining_Race</th><th scope=col>Race_Ethinicity</th><th scope=col>Marital_status</th><th scope=col>Religion</th><th scope=col>Party</th><th scope=col>Income</th><th scope=col>Income_Recode</th><th scope=col>Ideology</th><th scope=col>Insurance_Status</th><th scope=col>Internet_frequency</th><th scope=col>Social_media_user</th></tr>\n",
       "\t<tr><th></th><th scope=col>&lt;chr&gt;</th><th scope=col>&lt;int&gt;</th><th scope=col>&lt;chr&gt;</th><th scope=col>&lt;chr&gt;</th><th scope=col>&lt;chr&gt;</th><th scope=col>&lt;chr&gt;</th><th scope=col>&lt;chr&gt;</th><th scope=col>&lt;chr&gt;</th><th scope=col>&lt;chr&gt;</th><th scope=col>&lt;chr&gt;</th><th scope=col>&lt;chr&gt;</th><th scope=col>&lt;chr&gt;</th><th scope=col>&lt;chr&gt;</th><th scope=col>&lt;chr&gt;</th><th scope=col>&lt;chr&gt;</th><th scope=col>&lt;chr&gt;</th><th scope=col>&lt;chr&gt;</th><th scope=col>&lt;chr&gt;</th><th scope=col>&lt;chr&gt;</th></tr>\n",
       "</thead>\n",
       "<tbody>\n",
       "\t<tr><th scope=row>1</th><td>English</td><td>1</td><td>Yes</td><td><span style=white-space:pre-wrap>65+  </span></td><td>Female</td><td><span style=white-space:pre-wrap>Some college     </span></td><td><span style=white-space:pre-wrap>Some college, no degree       </span></td><td>No</td><td>White</td><td>White non-Hispanic</td><td>Divorced</td><td>Roman Catholic</td><td><span style=white-space:pre-wrap>Democrat   </span></td><td><span style=white-space:pre-wrap>20 to under $30,000       </span></td><td><span style=white-space:pre-wrap>&lt;$30,000   </span></td><td><span style=white-space:pre-wrap>Moderate    </span></td><td>Covered by health insurance</td><td><span style=white-space:pre-wrap>Every day                             </span></td><td>Social Media Users</td></tr>\n",
       "\t<tr><th scope=row>2</th><td>English</td><td>0</td><td>No </td><td>30-49</td><td>Male  </td><td>Some college     </td><td>Associate? degree             </td><td>No</td><td>White</td><td>White non-Hispanic</td><td>Married </td><td>Protestant    </td><td>Independent</td><td>50 to under $75,000       </td><td>$30-$74,999</td><td>Moderate    </td><td>Covered by health insurance</td><td>At least once a week but not every day</td><td>Social Media Users</td></tr>\n",
       "\t<tr><th scope=row>3</th><td>English</td><td>1</td><td>Yes</td><td>50-64</td><td>Female</td><td>College graduate+</td><td>College graduate/some postgrad</td><td>No</td><td>White</td><td>White non-Hispanic</td><td>Married </td><td>Jewish        </td><td>Republican </td><td>100 to under $150,000 [OR]</td><td>$75,000+   </td><td>Conservative</td><td>Covered by health insurance</td><td>Every day                             </td><td>Social Media Users</td></tr>\n",
       "\t<tr><th scope=row>4</th><td>English</td><td>1</td><td>Yes</td><td>50-64</td><td>Male  </td><td>College graduate+</td><td>Postgraduate                  </td><td>No</td><td>White</td><td>White non-Hispanic</td><td>Married </td><td>Roman Catholic</td><td>Republican </td><td>100 to under $150,000 [OR]</td><td>$75,000+   </td><td>Conservative</td><td>Covered by health insurance</td><td>Every day                             </td><td>Social Media Users</td></tr>\n",
       "\t<tr><th scope=row>5</th><td>English</td><td>1</td><td>Yes</td><td>50-64</td><td>Male  </td><td>College graduate+</td><td>Postgraduate                  </td><td>No</td><td>White</td><td>White non-Hispanic</td><td>Married </td><td>Protestant    </td><td>Democrat   </td><td>75 to under $100,000      </td><td>$75,000+   </td><td>Moderate    </td><td>Covered by health insurance</td><td>Every day                             </td><td>Social Media Users</td></tr>\n",
       "\t<tr><th scope=row>6</th><td>English</td><td>0</td><td>Yes</td><td>50-64</td><td>Male  </td><td>College graduate+</td><td>College graduate/some postgrad</td><td>No</td><td>White</td><td>White non-Hispanic</td><td>Married </td><td>Protestant    </td><td>Democrat   </td><td>$150,000 or more          </td><td>$75,000+   </td><td>Very liberal</td><td>Covered by health insurance</td><td>Every day                             </td><td>Social Media Users</td></tr>\n",
       "</tbody>\n",
       "</table>\n"
      ],
      "text/latex": [
       "A data.frame: 6 × 19\n",
       "\\begin{tabular}{r|lllllllllllllllllll}\n",
       "  & LANGUAGE & Support\\_Trump & Support\\_Clinton & Age\\_Category & Sex & Education\\_Category & Education\\_Category2 & Hispanic & Combining\\_Race & Race\\_Ethinicity & Marital\\_status & Religion & Party & Income & Income\\_Recode & Ideology & Insurance\\_Status & Internet\\_frequency & Social\\_media\\_user\\\\\n",
       "  & <chr> & <int> & <chr> & <chr> & <chr> & <chr> & <chr> & <chr> & <chr> & <chr> & <chr> & <chr> & <chr> & <chr> & <chr> & <chr> & <chr> & <chr> & <chr>\\\\\n",
       "\\hline\n",
       "\t1 & English & 1 & Yes & 65+   & Female & Some college      & Some college, no degree        & No & White & White non-Hispanic & Divorced & Roman Catholic & Democrat    & 20 to under \\$30,000        & <\\$30,000    & Moderate     & Covered by health insurance & Every day                              & Social Media Users\\\\\n",
       "\t2 & English & 0 & No  & 30-49 & Male   & Some college      & Associate? degree              & No & White & White non-Hispanic & Married  & Protestant     & Independent & 50 to under \\$75,000        & \\$30-\\$74,999 & Moderate     & Covered by health insurance & At least once a week but not every day & Social Media Users\\\\\n",
       "\t3 & English & 1 & Yes & 50-64 & Female & College graduate+ & College graduate/some postgrad & No & White & White non-Hispanic & Married  & Jewish         & Republican  & 100 to under \\$150,000 {[}OR{]} & \\$75,000+    & Conservative & Covered by health insurance & Every day                              & Social Media Users\\\\\n",
       "\t4 & English & 1 & Yes & 50-64 & Male   & College graduate+ & Postgraduate                   & No & White & White non-Hispanic & Married  & Roman Catholic & Republican  & 100 to under \\$150,000 {[}OR{]} & \\$75,000+    & Conservative & Covered by health insurance & Every day                              & Social Media Users\\\\\n",
       "\t5 & English & 1 & Yes & 50-64 & Male   & College graduate+ & Postgraduate                   & No & White & White non-Hispanic & Married  & Protestant     & Democrat    & 75 to under \\$100,000       & \\$75,000+    & Moderate     & Covered by health insurance & Every day                              & Social Media Users\\\\\n",
       "\t6 & English & 0 & Yes & 50-64 & Male   & College graduate+ & College graduate/some postgrad & No & White & White non-Hispanic & Married  & Protestant     & Democrat    & \\$150,000 or more           & \\$75,000+    & Very liberal & Covered by health insurance & Every day                              & Social Media Users\\\\\n",
       "\\end{tabular}\n"
      ],
      "text/markdown": [
       "\n",
       "A data.frame: 6 × 19\n",
       "\n",
       "| <!--/--> | LANGUAGE &lt;chr&gt; | Support_Trump &lt;int&gt; | Support_Clinton &lt;chr&gt; | Age_Category &lt;chr&gt; | Sex &lt;chr&gt; | Education_Category &lt;chr&gt; | Education_Category2 &lt;chr&gt; | Hispanic &lt;chr&gt; | Combining_Race &lt;chr&gt; | Race_Ethinicity &lt;chr&gt; | Marital_status &lt;chr&gt; | Religion &lt;chr&gt; | Party &lt;chr&gt; | Income &lt;chr&gt; | Income_Recode &lt;chr&gt; | Ideology &lt;chr&gt; | Insurance_Status &lt;chr&gt; | Internet_frequency &lt;chr&gt; | Social_media_user &lt;chr&gt; |\n",
       "|---|---|---|---|---|---|---|---|---|---|---|---|---|---|---|---|---|---|---|---|\n",
       "| 1 | English | 1 | Yes | 65+   | Female | Some college      | Some college, no degree        | No | White | White non-Hispanic | Divorced | Roman Catholic | Democrat    | 20 to under $30,000        | &lt;$30,000    | Moderate     | Covered by health insurance | Every day                              | Social Media Users |\n",
       "| 2 | English | 0 | No  | 30-49 | Male   | Some college      | Associate? degree              | No | White | White non-Hispanic | Married  | Protestant     | Independent | 50 to under $75,000        | $30-$74,999 | Moderate     | Covered by health insurance | At least once a week but not every day | Social Media Users |\n",
       "| 3 | English | 1 | Yes | 50-64 | Female | College graduate+ | College graduate/some postgrad | No | White | White non-Hispanic | Married  | Jewish         | Republican  | 100 to under $150,000 [OR] | $75,000+    | Conservative | Covered by health insurance | Every day                              | Social Media Users |\n",
       "| 4 | English | 1 | Yes | 50-64 | Male   | College graduate+ | Postgraduate                   | No | White | White non-Hispanic | Married  | Roman Catholic | Republican  | 100 to under $150,000 [OR] | $75,000+    | Conservative | Covered by health insurance | Every day                              | Social Media Users |\n",
       "| 5 | English | 1 | Yes | 50-64 | Male   | College graduate+ | Postgraduate                   | No | White | White non-Hispanic | Married  | Protestant     | Democrat    | 75 to under $100,000       | $75,000+    | Moderate     | Covered by health insurance | Every day                              | Social Media Users |\n",
       "| 6 | English | 0 | Yes | 50-64 | Male   | College graduate+ | College graduate/some postgrad | No | White | White non-Hispanic | Married  | Protestant     | Democrat    | $150,000 or more           | $75,000+    | Very liberal | Covered by health insurance | Every day                              | Social Media Users |\n",
       "\n"
      ],
      "text/plain": [
       "  LANGUAGE Support_Trump Support_Clinton Age_Category Sex    Education_Category\n",
       "1 English  1             Yes             65+          Female Some college      \n",
       "2 English  0             No              30-49        Male   Some college      \n",
       "3 English  1             Yes             50-64        Female College graduate+ \n",
       "4 English  1             Yes             50-64        Male   College graduate+ \n",
       "5 English  1             Yes             50-64        Male   College graduate+ \n",
       "6 English  0             Yes             50-64        Male   College graduate+ \n",
       "  Education_Category2            Hispanic Combining_Race Race_Ethinicity   \n",
       "1 Some college, no degree        No       White          White non-Hispanic\n",
       "2 Associate? degree              No       White          White non-Hispanic\n",
       "3 College graduate/some postgrad No       White          White non-Hispanic\n",
       "4 Postgraduate                   No       White          White non-Hispanic\n",
       "5 Postgraduate                   No       White          White non-Hispanic\n",
       "6 College graduate/some postgrad No       White          White non-Hispanic\n",
       "  Marital_status Religion       Party       Income                    \n",
       "1 Divorced       Roman Catholic Democrat    20 to under $30,000       \n",
       "2 Married        Protestant     Independent 50 to under $75,000       \n",
       "3 Married        Jewish         Republican  100 to under $150,000 [OR]\n",
       "4 Married        Roman Catholic Republican  100 to under $150,000 [OR]\n",
       "5 Married        Protestant     Democrat    75 to under $100,000      \n",
       "6 Married        Protestant     Democrat    $150,000 or more          \n",
       "  Income_Recode Ideology     Insurance_Status           \n",
       "1 <$30,000      Moderate     Covered by health insurance\n",
       "2 $30-$74,999   Moderate     Covered by health insurance\n",
       "3 $75,000+      Conservative Covered by health insurance\n",
       "4 $75,000+      Conservative Covered by health insurance\n",
       "5 $75,000+      Moderate     Covered by health insurance\n",
       "6 $75,000+      Very liberal Covered by health insurance\n",
       "  Internet_frequency                     Social_media_user \n",
       "1 Every day                              Social Media Users\n",
       "2 At least once a week but not every day Social Media Users\n",
       "3 Every day                              Social Media Users\n",
       "4 Every day                              Social Media Users\n",
       "5 Every day                              Social Media Users\n",
       "6 Every day                              Social Media Users"
      ]
     },
     "metadata": {},
     "output_type": "display_data"
    }
   ],
   "source": [
    "head(elec_df)"
   ]
  },
  {
   "cell_type": "code",
   "execution_count": 5,
   "metadata": {},
   "outputs": [
    {
     "name": "stdout",
     "output_type": "stream",
     "text": [
      "'data.frame':\t2829 obs. of  19 variables:\n",
      " $ LANGUAGE           : chr  \"English\" \"English\" \"English\" \"English\" ...\n",
      " $ Support_Trump      : int  1 0 1 1 1 0 1 0 0 1 ...\n",
      " $ Support_Clinton    : chr  \"Yes\" \"No\" \"Yes\" \"Yes\" ...\n",
      " $ Age_Category       : chr  \"65+\" \"30-49\" \"50-64\" \"50-64\" ...\n",
      " $ Sex                : chr  \"Female\" \"Male\" \"Female\" \"Male\" ...\n",
      " $ Education_Category : chr  \"Some college\" \"Some college\" \"College graduate+\" \"College graduate+\" ...\n",
      " $ Education_Category2: chr  \"Some college, no degree\" \"Associate? degree\" \"College graduate/some postgrad\" \"Postgraduate\" ...\n",
      " $ Hispanic           : chr  \"No\" \"No\" \"No\" \"No\" ...\n",
      " $ Combining_Race     : chr  \"White\" \"White\" \"White\" \"White\" ...\n",
      " $ Race_Ethinicity    : chr  \"White non-Hispanic\" \"White non-Hispanic\" \"White non-Hispanic\" \"White non-Hispanic\" ...\n",
      " $ Marital_status     : chr  \"Divorced\" \"Married\" \"Married\" \"Married\" ...\n",
      " $ Religion           : chr  \"Roman Catholic\" \"Protestant\" \"Jewish\" \"Roman Catholic\" ...\n",
      " $ Party              : chr  \"Democrat\" \"Independent\" \"Republican\" \"Republican\" ...\n",
      " $ Income             : chr  \"20 to under $30,000\" \"50 to under $75,000\" \"100 to under $150,000 [OR]\" \"100 to under $150,000 [OR]\" ...\n",
      " $ Income_Recode      : chr  \"<$30,000\" \"$30-$74,999\" \"$75,000+\" \"$75,000+\" ...\n",
      " $ Ideology           : chr  \"Moderate\" \"Moderate\" \"Conservative\" \"Conservative\" ...\n",
      " $ Insurance_Status   : chr  \"Covered by health insurance\" \"Covered by health insurance\" \"Covered by health insurance\" \"Covered by health insurance\" ...\n",
      " $ Internet_frequency : chr  \"Every day\" \"At least once a week but not every day\" \"Every day\" \"Every day\" ...\n",
      " $ Social_media_user  : chr  \"Social Media Users\" \"Social Media Users\" \"Social Media Users\" \"Social Media Users\" ...\n"
     ]
    }
   ],
   "source": [
    "str(elec_df)"
   ]
  },
  {
   "cell_type": "code",
   "execution_count": null,
   "metadata": {},
   "outputs": [],
   "source": []
  },
  {
   "cell_type": "code",
   "execution_count": 6,
   "metadata": {},
   "outputs": [
    {
     "data": {
      "text/html": [
       "FALSE"
      ],
      "text/latex": [
       "FALSE"
      ],
      "text/markdown": [
       "FALSE"
      ],
      "text/plain": [
       "[1] FALSE"
      ]
     },
     "metadata": {},
     "output_type": "display_data"
    }
   ],
   "source": [
    "is.factor(elec_df$Age_Category)"
   ]
  },
  {
   "cell_type": "code",
   "execution_count": 8,
   "metadata": {},
   "outputs": [],
   "source": [
    "elec_df$LANGUAGE <- as.factor(elec_df$LANGUAGE)\n",
    "elec_df$Support_Trump <- as.factor(elec_df$Support_Trump)\n",
    "elec_df$Support_Clinton <- as.factor(elec_df$Support_Clinton)\n",
    "elec_df$Age_Category <- as.factor(elec_df$Age_Category)\n",
    "elec_df$Sex <- as.factor(elec_df$Sex)\n",
    "elec_df$Education_Category <- as.factor(elec_df$Education_Category2)\n",
    "elec_df$Hispanic <- as.factor(elec_df$Hispanic)\n",
    "elec_df$Combining_Race <- as.factor(elec_df$Combining_Race)\n",
    "elec_df$Race_Ethinicity <- as.factor(elec_df$Race_Ethinicity)\n",
    "elec_df$Marital_status <- as.factor(elec_df$Marital_status)\n",
    "elec_df$Religion <- as.factor(elec_df$Religion)\n",
    "elec_df$Party <- as.factor(elec_df$Party)\n",
    "elec_df$Income <- as.factor(elec_df$Income)\n",
    "elec_df$Income_Recode <- as.factor(elec_df$Income_Recode)\n",
    "elec_df$Ideology <- as.factor(elec_df$Ideology)\n",
    "elec_df$Insurance_Status <- as.factor(elec_df$Insurance_Status)\n",
    "elec_df$Internet_frequency <- as.factor(elec_df$Internet_frequency)\n",
    "elec_df$Social_media_user <- as.factor(elec_df$Social_media_user)\n",
    "elec_df$Education_Category2 <- as.factor(elec_df$Education_Category2)"
   ]
  },
  {
   "cell_type": "code",
   "execution_count": 9,
   "metadata": {},
   "outputs": [
    {
     "name": "stdout",
     "output_type": "stream",
     "text": [
      "'data.frame':\t2829 obs. of  19 variables:\n",
      " $ LANGUAGE           : Factor w/ 2 levels \"English\",\"Spanish\": 1 1 1 1 1 1 1 1 1 1 ...\n",
      " $ Support_Trump      : Factor w/ 2 levels \"0\",\"1\": 2 1 2 2 2 1 2 1 1 2 ...\n",
      " $ Support_Clinton    : Factor w/ 3 levels \"99\",\"No\",\"Yes\": 3 2 3 3 3 3 3 3 3 3 ...\n",
      " $ Age_Category       : Factor w/ 4 levels \"18-29\",\"30-49\",..: 4 2 3 3 3 3 2 4 4 4 ...\n",
      " $ Sex                : Factor w/ 2 levels \"Female\",\"Male\": 1 2 1 2 2 2 2 2 2 1 ...\n",
      " $ Education_Category : Factor w/ 6 levels \"Associate? degree\",..: 6 1 2 5 5 2 2 5 5 5 ...\n",
      " $ Education_Category2: Factor w/ 6 levels \"Associate? degree\",..: 6 1 2 5 5 2 2 5 5 5 ...\n",
      " $ Hispanic           : Factor w/ 2 levels \"No\",\"Yes\": 1 1 1 1 1 1 1 1 1 1 ...\n",
      " $ Combining_Race     : Factor w/ 5 levels \"Asian or Asian-American\",..: 5 5 5 5 5 5 5 5 5 5 ...\n",
      " $ Race_Ethinicity    : Factor w/ 4 levels \"Black non-Hispanic\",..: 4 4 4 4 4 4 4 4 4 4 ...\n",
      " $ Marital_status     : Factor w/ 6 levels \"Divorced\",\"Living with a partner\",..: 1 3 3 3 3 3 3 3 3 3 ...\n",
      " $ Religion           : Factor w/ 12 levels \"(VOL) Christian\",..: 12 11 7 12 11 11 11 3 11 12 ...\n",
      " $ Party              : Factor w/ 3 levels \"Democrat\",\"Independent\",..: 1 2 3 3 1 1 3 1 1 1 ...\n",
      " $ Income             : Factor w/ 9 levels \"$150,000 or more\",..: 4 7 3 3 8 1 1 8 3 3 ...\n",
      " $ Income_Recode      : Factor w/ 3 levels \"$30-$74,999\",..: 3 1 2 2 2 2 2 2 2 2 ...\n",
      " $ Ideology           : Factor w/ 5 levels \"Conservative\",..: 3 3 1 1 3 5 1 5 2 3 ...\n",
      " $ Insurance_Status   : Factor w/ 2 levels \"Covered by health insurance\",..: 1 1 1 1 1 1 1 1 1 1 ...\n",
      " $ Internet_frequency : Factor w/ 6 levels \"At least once a week but not every day\",..: 2 1 2 2 2 2 2 2 2 2 ...\n",
      " $ Social_media_user  : Factor w/ 2 levels \"Not Social Media Users\",..: 2 2 2 2 2 2 2 1 2 1 ...\n"
     ]
    }
   ],
   "source": [
    "str(elec_df)"
   ]
  },
  {
   "cell_type": "code",
   "execution_count": 19,
   "metadata": {},
   "outputs": [
    {
     "data": {
      "text/html": [
       "<style>\n",
       ".list-inline {list-style: none; margin:0; padding: 0}\n",
       ".list-inline>li {display: inline-block}\n",
       ".list-inline>li:not(:last-child)::after {content: \"\\00b7\"; padding: 0 .5ex}\n",
       "</style>\n",
       "<ol class=list-inline><li>Social Media Users</li><li>Not Social Media Users</li></ol>\n",
       "\n",
       "<details>\n",
       "\t<summary style=display:list-item;cursor:pointer>\n",
       "\t\t<strong>Levels</strong>:\n",
       "\t</summary>\n",
       "\t<style>\n",
       "\t.list-inline {list-style: none; margin:0; padding: 0}\n",
       "\t.list-inline>li {display: inline-block}\n",
       "\t.list-inline>li:not(:last-child)::after {content: \"\\00b7\"; padding: 0 .5ex}\n",
       "\t</style>\n",
       "\t<ol class=list-inline><li>'Not Social Media Users'</li><li>'Social Media Users'</li></ol>\n",
       "</details>"
      ],
      "text/latex": [
       "\\begin{enumerate*}\n",
       "\\item Social Media Users\n",
       "\\item Not Social Media Users\n",
       "\\end{enumerate*}\n",
       "\n",
       "\\emph{Levels}: \\begin{enumerate*}\n",
       "\\item 'Not Social Media Users'\n",
       "\\item 'Social Media Users'\n",
       "\\end{enumerate*}\n"
      ],
      "text/markdown": [
       "1. Social Media Users\n",
       "2. Not Social Media Users\n",
       "\n",
       "\n",
       "\n",
       "**Levels**: 1. 'Not Social Media Users'\n",
       "2. 'Social Media Users'\n",
       "\n",
       "\n"
      ],
      "text/plain": [
       "[1] Social Media Users     Not Social Media Users\n",
       "Levels: Not Social Media Users Social Media Users"
      ]
     },
     "metadata": {},
     "output_type": "display_data"
    }
   ],
   "source": [
    "unique(elec_df$Social_media_user)"
   ]
  },
  {
   "cell_type": "code",
   "execution_count": 20,
   "metadata": {},
   "outputs": [],
   "source": [
    "elec_df2 <- elec_df"
   ]
  },
  {
   "cell_type": "code",
   "execution_count": 21,
   "metadata": {},
   "outputs": [
    {
     "data": {
      "text/html": [
       "<table>\n",
       "<caption>A data.frame: 6 × 16</caption>\n",
       "<thead>\n",
       "\t<tr><th></th><th scope=col>Support_Trump</th><th scope=col>Age_Category</th><th scope=col>Sex</th><th scope=col>Education_Category</th><th scope=col>Hispanic</th><th scope=col>Combining_Race</th><th scope=col>Race_Ethinicity</th><th scope=col>Marital_status</th><th scope=col>Religion</th><th scope=col>Party</th><th scope=col>Income</th><th scope=col>Income_Recode</th><th scope=col>Ideology</th><th scope=col>Insurance_Status</th><th scope=col>Internet_frequency</th><th scope=col>Social_media_user</th></tr>\n",
       "\t<tr><th></th><th scope=col>&lt;fct&gt;</th><th scope=col>&lt;fct&gt;</th><th scope=col>&lt;fct&gt;</th><th scope=col>&lt;fct&gt;</th><th scope=col>&lt;fct&gt;</th><th scope=col>&lt;fct&gt;</th><th scope=col>&lt;fct&gt;</th><th scope=col>&lt;fct&gt;</th><th scope=col>&lt;fct&gt;</th><th scope=col>&lt;fct&gt;</th><th scope=col>&lt;fct&gt;</th><th scope=col>&lt;fct&gt;</th><th scope=col>&lt;fct&gt;</th><th scope=col>&lt;fct&gt;</th><th scope=col>&lt;fct&gt;</th><th scope=col>&lt;fct&gt;</th></tr>\n",
       "</thead>\n",
       "<tbody>\n",
       "\t<tr><th scope=row>1</th><td>1</td><td><span style=white-space:pre-wrap>65+  </span></td><td>Female</td><td><span style=white-space:pre-wrap>Some college, no degree       </span></td><td>No</td><td>White</td><td>White non-Hispanic</td><td>Divorced</td><td>Roman Catholic</td><td><span style=white-space:pre-wrap>Democrat   </span></td><td><span style=white-space:pre-wrap>20 to under $30,000       </span></td><td><span style=white-space:pre-wrap>&lt;$30,000   </span></td><td><span style=white-space:pre-wrap>Moderate    </span></td><td>Covered by health insurance</td><td><span style=white-space:pre-wrap>Every day                             </span></td><td>Social Media Users</td></tr>\n",
       "\t<tr><th scope=row>2</th><td>0</td><td>30-49</td><td>Male  </td><td>Associate? degree             </td><td>No</td><td>White</td><td>White non-Hispanic</td><td>Married </td><td>Protestant    </td><td>Independent</td><td>50 to under $75,000       </td><td>$30-$74,999</td><td>Moderate    </td><td>Covered by health insurance</td><td>At least once a week but not every day</td><td>Social Media Users</td></tr>\n",
       "\t<tr><th scope=row>3</th><td>1</td><td>50-64</td><td>Female</td><td>College graduate/some postgrad</td><td>No</td><td>White</td><td>White non-Hispanic</td><td>Married </td><td>Jewish        </td><td>Republican </td><td>100 to under $150,000 [OR]</td><td>$75,000+   </td><td>Conservative</td><td>Covered by health insurance</td><td>Every day                             </td><td>Social Media Users</td></tr>\n",
       "\t<tr><th scope=row>4</th><td>1</td><td>50-64</td><td>Male  </td><td>Postgraduate                  </td><td>No</td><td>White</td><td>White non-Hispanic</td><td>Married </td><td>Roman Catholic</td><td>Republican </td><td>100 to under $150,000 [OR]</td><td>$75,000+   </td><td>Conservative</td><td>Covered by health insurance</td><td>Every day                             </td><td>Social Media Users</td></tr>\n",
       "\t<tr><th scope=row>5</th><td>1</td><td>50-64</td><td>Male  </td><td>Postgraduate                  </td><td>No</td><td>White</td><td>White non-Hispanic</td><td>Married </td><td>Protestant    </td><td>Democrat   </td><td>75 to under $100,000      </td><td>$75,000+   </td><td>Moderate    </td><td>Covered by health insurance</td><td>Every day                             </td><td>Social Media Users</td></tr>\n",
       "\t<tr><th scope=row>6</th><td>0</td><td>50-64</td><td>Male  </td><td>College graduate/some postgrad</td><td>No</td><td>White</td><td>White non-Hispanic</td><td>Married </td><td>Protestant    </td><td>Democrat   </td><td>$150,000 or more          </td><td>$75,000+   </td><td>Very liberal</td><td>Covered by health insurance</td><td>Every day                             </td><td>Social Media Users</td></tr>\n",
       "</tbody>\n",
       "</table>\n"
      ],
      "text/latex": [
       "A data.frame: 6 × 16\n",
       "\\begin{tabular}{r|llllllllllllllll}\n",
       "  & Support\\_Trump & Age\\_Category & Sex & Education\\_Category & Hispanic & Combining\\_Race & Race\\_Ethinicity & Marital\\_status & Religion & Party & Income & Income\\_Recode & Ideology & Insurance\\_Status & Internet\\_frequency & Social\\_media\\_user\\\\\n",
       "  & <fct> & <fct> & <fct> & <fct> & <fct> & <fct> & <fct> & <fct> & <fct> & <fct> & <fct> & <fct> & <fct> & <fct> & <fct> & <fct>\\\\\n",
       "\\hline\n",
       "\t1 & 1 & 65+   & Female & Some college, no degree        & No & White & White non-Hispanic & Divorced & Roman Catholic & Democrat    & 20 to under \\$30,000        & <\\$30,000    & Moderate     & Covered by health insurance & Every day                              & Social Media Users\\\\\n",
       "\t2 & 0 & 30-49 & Male   & Associate? degree              & No & White & White non-Hispanic & Married  & Protestant     & Independent & 50 to under \\$75,000        & \\$30-\\$74,999 & Moderate     & Covered by health insurance & At least once a week but not every day & Social Media Users\\\\\n",
       "\t3 & 1 & 50-64 & Female & College graduate/some postgrad & No & White & White non-Hispanic & Married  & Jewish         & Republican  & 100 to under \\$150,000 {[}OR{]} & \\$75,000+    & Conservative & Covered by health insurance & Every day                              & Social Media Users\\\\\n",
       "\t4 & 1 & 50-64 & Male   & Postgraduate                   & No & White & White non-Hispanic & Married  & Roman Catholic & Republican  & 100 to under \\$150,000 {[}OR{]} & \\$75,000+    & Conservative & Covered by health insurance & Every day                              & Social Media Users\\\\\n",
       "\t5 & 1 & 50-64 & Male   & Postgraduate                   & No & White & White non-Hispanic & Married  & Protestant     & Democrat    & 75 to under \\$100,000       & \\$75,000+    & Moderate     & Covered by health insurance & Every day                              & Social Media Users\\\\\n",
       "\t6 & 0 & 50-64 & Male   & College graduate/some postgrad & No & White & White non-Hispanic & Married  & Protestant     & Democrat    & \\$150,000 or more           & \\$75,000+    & Very liberal & Covered by health insurance & Every day                              & Social Media Users\\\\\n",
       "\\end{tabular}\n"
      ],
      "text/markdown": [
       "\n",
       "A data.frame: 6 × 16\n",
       "\n",
       "| <!--/--> | Support_Trump &lt;fct&gt; | Age_Category &lt;fct&gt; | Sex &lt;fct&gt; | Education_Category &lt;fct&gt; | Hispanic &lt;fct&gt; | Combining_Race &lt;fct&gt; | Race_Ethinicity &lt;fct&gt; | Marital_status &lt;fct&gt; | Religion &lt;fct&gt; | Party &lt;fct&gt; | Income &lt;fct&gt; | Income_Recode &lt;fct&gt; | Ideology &lt;fct&gt; | Insurance_Status &lt;fct&gt; | Internet_frequency &lt;fct&gt; | Social_media_user &lt;fct&gt; |\n",
       "|---|---|---|---|---|---|---|---|---|---|---|---|---|---|---|---|---|\n",
       "| 1 | 1 | 65+   | Female | Some college, no degree        | No | White | White non-Hispanic | Divorced | Roman Catholic | Democrat    | 20 to under $30,000        | &lt;$30,000    | Moderate     | Covered by health insurance | Every day                              | Social Media Users |\n",
       "| 2 | 0 | 30-49 | Male   | Associate? degree              | No | White | White non-Hispanic | Married  | Protestant     | Independent | 50 to under $75,000        | $30-$74,999 | Moderate     | Covered by health insurance | At least once a week but not every day | Social Media Users |\n",
       "| 3 | 1 | 50-64 | Female | College graduate/some postgrad | No | White | White non-Hispanic | Married  | Jewish         | Republican  | 100 to under $150,000 [OR] | $75,000+    | Conservative | Covered by health insurance | Every day                              | Social Media Users |\n",
       "| 4 | 1 | 50-64 | Male   | Postgraduate                   | No | White | White non-Hispanic | Married  | Roman Catholic | Republican  | 100 to under $150,000 [OR] | $75,000+    | Conservative | Covered by health insurance | Every day                              | Social Media Users |\n",
       "| 5 | 1 | 50-64 | Male   | Postgraduate                   | No | White | White non-Hispanic | Married  | Protestant     | Democrat    | 75 to under $100,000       | $75,000+    | Moderate     | Covered by health insurance | Every day                              | Social Media Users |\n",
       "| 6 | 0 | 50-64 | Male   | College graduate/some postgrad | No | White | White non-Hispanic | Married  | Protestant     | Democrat    | $150,000 or more           | $75,000+    | Very liberal | Covered by health insurance | Every day                              | Social Media Users |\n",
       "\n"
      ],
      "text/plain": [
       "  Support_Trump Age_Category Sex    Education_Category             Hispanic\n",
       "1 1             65+          Female Some college, no degree        No      \n",
       "2 0             30-49        Male   Associate? degree              No      \n",
       "3 1             50-64        Female College graduate/some postgrad No      \n",
       "4 1             50-64        Male   Postgraduate                   No      \n",
       "5 1             50-64        Male   Postgraduate                   No      \n",
       "6 0             50-64        Male   College graduate/some postgrad No      \n",
       "  Combining_Race Race_Ethinicity    Marital_status Religion       Party      \n",
       "1 White          White non-Hispanic Divorced       Roman Catholic Democrat   \n",
       "2 White          White non-Hispanic Married        Protestant     Independent\n",
       "3 White          White non-Hispanic Married        Jewish         Republican \n",
       "4 White          White non-Hispanic Married        Roman Catholic Republican \n",
       "5 White          White non-Hispanic Married        Protestant     Democrat   \n",
       "6 White          White non-Hispanic Married        Protestant     Democrat   \n",
       "  Income                     Income_Recode Ideology    \n",
       "1 20 to under $30,000        <$30,000      Moderate    \n",
       "2 50 to under $75,000        $30-$74,999   Moderate    \n",
       "3 100 to under $150,000 [OR] $75,000+      Conservative\n",
       "4 100 to under $150,000 [OR] $75,000+      Conservative\n",
       "5 75 to under $100,000       $75,000+      Moderate    \n",
       "6 $150,000 or more           $75,000+      Very liberal\n",
       "  Insurance_Status            Internet_frequency                    \n",
       "1 Covered by health insurance Every day                             \n",
       "2 Covered by health insurance At least once a week but not every day\n",
       "3 Covered by health insurance Every day                             \n",
       "4 Covered by health insurance Every day                             \n",
       "5 Covered by health insurance Every day                             \n",
       "6 Covered by health insurance Every day                             \n",
       "  Social_media_user \n",
       "1 Social Media Users\n",
       "2 Social Media Users\n",
       "3 Social Media Users\n",
       "4 Social Media Users\n",
       "5 Social Media Users\n",
       "6 Social Media Users"
      ]
     },
     "metadata": {},
     "output_type": "display_data"
    }
   ],
   "source": [
    "keeps <- c(\"Support_Trump\", \"Age_Category\", \"Sex\", \"Education_Category\", \n",
    "           \"Hispanic\", \"Combining_Race\", \"Race_Ethinicity\", \"Marital_status\", \"Religion\tParty\",\n",
    "           \"Income\", \"Income_Recode\", \"Ideology\", \"Insurance_Status\",\"Internet_frequency\",\"Social_media_user\")\n",
    "drop <- c(\"LANGUAGE\",\"Support_Clinton\", \"Education_Category2\")\n",
    "elec_df3 = elec_df2[,!(names(elec_df2) %in% drop)]\n",
    "head(elec_df3)"
   ]
  },
  {
   "cell_type": "code",
   "execution_count": 24,
   "metadata": {},
   "outputs": [],
   "source": [
    "LR_Model1 <- glm(Support_Trump ~ Age_Category + Sex + Education_Category + Race_Ethinicity + Religion + Party  \n",
    "                 + Marital_status + Combining_Race + Ideology, data = elec_df,\n",
    "          family=binomial(link = 'logit'))"
   ]
  },
  {
   "cell_type": "code",
   "execution_count": 28,
   "metadata": {},
   "outputs": [],
   "source": [
    "LR_Model2 <- glm(Support_Trump ~ Sex + Education_Category + Party  \n",
    "                  + Income_Recode + Combining_Race + Ideology, data = elec_df,\n",
    "          family=binomial(link = 'logit'))"
   ]
  },
  {
   "cell_type": "code",
   "execution_count": 26,
   "metadata": {},
   "outputs": [
    {
     "data": {
      "text/plain": [
       "\n",
       "Call:\n",
       "glm(formula = Support_Trump ~ Age_Category + Sex + Education_Category + \n",
       "    Race_Ethinicity + Religion + Party + Marital_status + Combining_Race + \n",
       "    Ideology, family = binomial(link = \"logit\"), data = elec_df)\n",
       "\n",
       "Deviance Residuals: \n",
       "    Min       1Q   Median       3Q      Max  \n",
       "-2.6046  -0.9177   0.4375   0.8164   2.3576  \n",
       "\n",
       "Coefficients:\n",
       "                                                  Estimate Std. Error z value\n",
       "(Intercept)                                      -1.309227   1.034743  -1.265\n",
       "Age_Category30-49                                -0.062757   0.175956  -0.357\n",
       "Age_Category50-64                                 0.028173   0.179740   0.157\n",
       "Age_Category65+                                  -0.010415   0.191455  -0.054\n",
       "SexMale                                           0.380942   0.097462   3.909\n",
       "Education_CategoryCollege graduate/some postgrad -0.245400   0.183173  -1.340\n",
       "Education_CategoryHigh school graduate           -0.325853   0.219816  -1.482\n",
       "Education_CategoryLess than high school          -0.897628   0.340645  -2.635\n",
       "Education_CategoryPostgraduate                   -0.326542   0.184848  -1.767\n",
       "Education_CategorySome college, no degree        -0.038612   0.191835  -0.201\n",
       "Race_EthinicityHispanic                           0.605763   0.824459   0.735\n",
       "Race_EthinicityOther                              1.385314   0.900352   1.539\n",
       "Race_EthinicityWhite non-Hispanic                 1.192931   0.854671   1.396\n",
       "Religion(VOL) Unitarian (Universalist)           -0.010977   0.569697  -0.019\n",
       "ReligionAgnostic (not sure if there is a God)     0.081617   0.398279   0.205\n",
       "ReligionAtheist (do not believe in God)          -0.390043   0.400988  -0.973\n",
       "ReligionBuddhist                                 -0.006540   0.557448  -0.012\n",
       "ReligionHindu                                     0.199846   0.630224   0.317\n",
       "ReligionJewish                                   -0.227799   0.423746  -0.538\n",
       "ReligionMormon                                   -0.126196   0.506343  -0.249\n",
       "ReligionMuslim                                   -0.448557   0.622178  -0.721\n",
       "ReligionOrthodox                                 -0.040067   0.614341  -0.065\n",
       "ReligionProtestant                                0.014333   0.374009   0.038\n",
       "ReligionRoman Catholic                            0.228537   0.382591   0.597\n",
       "PartyIndependent                                  0.502566   0.115667   4.345\n",
       "PartyRepublican                                   1.488363   0.163295   9.115\n",
       "Marital_statusLiving with a partner               0.096628   0.223908   0.432\n",
       "Marital_statusMarried                             0.222973   0.150965   1.477\n",
       "Marital_statusNever been married                  0.492831   0.199836   2.466\n",
       "Marital_statusSeparated                          -0.051166   0.371483  -0.138\n",
       "Marital_statusWidowed                            -0.005228   0.230378  -0.023\n",
       "Combining_RaceBlack or African-American           0.656763   0.924712   0.710\n",
       "Combining_RaceMixed Race                          0.765483   0.405735   1.887\n",
       "Combining_RaceOr some other race                  0.181450   0.461564   0.393\n",
       "Combining_RaceWhite                               1.031043   0.503451   2.048\n",
       "IdeologyLiberal                                  -0.785630   0.174502  -4.502\n",
       "IdeologyModerate                                 -0.602379   0.147248  -4.091\n",
       "IdeologyVery conservative                         0.364933   0.247704   1.473\n",
       "IdeologyVery liberal                             -0.917606   0.206993  -4.433\n",
       "                                                 Pr(>|z|)    \n",
       "(Intercept)                                       0.20578    \n",
       "Age_Category30-49                                 0.72134    \n",
       "Age_Category50-64                                 0.87545    \n",
       "Age_Category65+                                   0.95662    \n",
       "SexMale                                          9.28e-05 ***\n",
       "Education_CategoryCollege graduate/some postgrad  0.18034    \n",
       "Education_CategoryHigh school graduate            0.13824    \n",
       "Education_CategoryLess than high school           0.00841 ** \n",
       "Education_CategoryPostgraduate                    0.07731 .  \n",
       "Education_CategorySome college, no degree         0.84048    \n",
       "Race_EthinicityHispanic                           0.46250    \n",
       "Race_EthinicityOther                              0.12389    \n",
       "Race_EthinicityWhite non-Hispanic                 0.16278    \n",
       "Religion(VOL) Unitarian (Universalist)            0.98463    \n",
       "ReligionAgnostic (not sure if there is a God)     0.83763    \n",
       "ReligionAtheist (do not believe in God)           0.33070    \n",
       "ReligionBuddhist                                  0.99064    \n",
       "ReligionHindu                                     0.75116    \n",
       "ReligionJewish                                    0.59086    \n",
       "ReligionMormon                                    0.80318    \n",
       "ReligionMuslim                                    0.47094    \n",
       "ReligionOrthodox                                  0.94800    \n",
       "ReligionProtestant                                0.96943    \n",
       "ReligionRoman Catholic                            0.55028    \n",
       "PartyIndependent                                 1.39e-05 ***\n",
       "PartyRepublican                                   < 2e-16 ***\n",
       "Marital_statusLiving with a partner               0.66607    \n",
       "Marital_statusMarried                             0.13968    \n",
       "Marital_statusNever been married                  0.01366 *  \n",
       "Marital_statusSeparated                           0.89045    \n",
       "Marital_statusWidowed                             0.98190    \n",
       "Combining_RaceBlack or African-American           0.47756    \n",
       "Combining_RaceMixed Race                          0.05921 .  \n",
       "Combining_RaceOr some other race                  0.69423    \n",
       "Combining_RaceWhite                               0.04056 *  \n",
       "IdeologyLiberal                                  6.73e-06 ***\n",
       "IdeologyModerate                                 4.30e-05 ***\n",
       "IdeologyVery conservative                         0.14068    \n",
       "IdeologyVery liberal                             9.29e-06 ***\n",
       "---\n",
       "Signif. codes:  0 '***' 0.001 '**' 0.01 '*' 0.05 '.' 0.1 ' ' 1\n",
       "\n",
       "(Dispersion parameter for binomial family taken to be 1)\n",
       "\n",
       "    Null deviance: 3450.0  on 2828  degrees of freedom\n",
       "Residual deviance: 2833.4  on 2790  degrees of freedom\n",
       "AIC: 2911.4\n",
       "\n",
       "Number of Fisher Scoring iterations: 5\n"
      ]
     },
     "metadata": {},
     "output_type": "display_data"
    }
   ],
   "source": [
    "summary(LR_Model1)"
   ]
  },
  {
   "cell_type": "code",
   "execution_count": 29,
   "metadata": {},
   "outputs": [
    {
     "data": {
      "text/plain": [
       "\n",
       "Call:\n",
       "glm(formula = Support_Trump ~ Sex + Education_Category + Party + \n",
       "    Income_Recode + Combining_Race + Ideology, family = binomial(link = \"logit\"), \n",
       "    data = elec_df)\n",
       "\n",
       "Deviance Residuals: \n",
       "    Min       1Q   Median       3Q      Max  \n",
       "-2.5179  -0.9678   0.4557   0.8233   2.0857  \n",
       "\n",
       "Coefficients:\n",
       "                                                  Estimate Std. Error z value\n",
       "(Intercept)                                       0.226799   0.333109   0.681\n",
       "SexMale                                           0.349760   0.093726   3.732\n",
       "Education_CategoryCollege graduate/some postgrad -0.224990   0.181254  -1.241\n",
       "Education_CategoryHigh school graduate           -0.260426   0.217155  -1.199\n",
       "Education_CategoryLess than high school          -0.868568   0.335123  -2.592\n",
       "Education_CategoryPostgraduate                   -0.369016   0.185655  -1.988\n",
       "Education_CategorySome college, no degree        -0.002214   0.188166  -0.012\n",
       "PartyIndependent                                  0.532190   0.112907   4.714\n",
       "PartyRepublican                                   1.526636   0.160455   9.514\n",
       "Income_Recode$75,000+                             0.097868   0.107747   0.908\n",
       "Income_Recode<$30,000                            -0.140809   0.134723  -1.045\n",
       "Combining_RaceBlack or African-American          -0.604419   0.297148  -2.034\n",
       "Combining_RaceMixed Race                          0.547688   0.352797   1.552\n",
       "Combining_RaceOr some other race                 -0.235882   0.353667  -0.667\n",
       "Combining_RaceWhite                               0.821834   0.258880   3.175\n",
       "IdeologyLiberal                                  -0.808420   0.167866  -4.816\n",
       "IdeologyModerate                                 -0.585198   0.144359  -4.054\n",
       "IdeologyVery conservative                         0.364435   0.246745   1.477\n",
       "IdeologyVery liberal                             -0.975738   0.193490  -5.043\n",
       "                                                 Pr(>|z|)    \n",
       "(Intercept)                                       0.49596    \n",
       "SexMale                                           0.00019 ***\n",
       "Education_CategoryCollege graduate/some postgrad  0.21449    \n",
       "Education_CategoryHigh school graduate            0.23042    \n",
       "Education_CategoryLess than high school           0.00955 ** \n",
       "Education_CategoryPostgraduate                    0.04685 *  \n",
       "Education_CategorySome college, no degree         0.99061    \n",
       "PartyIndependent                                 2.43e-06 ***\n",
       "PartyRepublican                                   < 2e-16 ***\n",
       "Income_Recode$75,000+                             0.36371    \n",
       "Income_Recode<$30,000                             0.29594    \n",
       "Combining_RaceBlack or African-American           0.04194 *  \n",
       "Combining_RaceMixed Race                          0.12056    \n",
       "Combining_RaceOr some other race                  0.50480    \n",
       "Combining_RaceWhite                               0.00150 ** \n",
       "IdeologyLiberal                                  1.47e-06 ***\n",
       "IdeologyModerate                                 5.04e-05 ***\n",
       "IdeologyVery conservative                         0.13968    \n",
       "IdeologyVery liberal                             4.59e-07 ***\n",
       "---\n",
       "Signif. codes:  0 '***' 0.001 '**' 0.01 '*' 0.05 '.' 0.1 ' ' 1\n",
       "\n",
       "(Dispersion parameter for binomial family taken to be 1)\n",
       "\n",
       "    Null deviance: 3450.0  on 2828  degrees of freedom\n",
       "Residual deviance: 2862.1  on 2810  degrees of freedom\n",
       "AIC: 2900.1\n",
       "\n",
       "Number of Fisher Scoring iterations: 5\n"
      ]
     },
     "metadata": {},
     "output_type": "display_data"
    }
   ],
   "source": [
    "summary(LR_Model2)"
   ]
  },
  {
   "cell_type": "code",
   "execution_count": 30,
   "metadata": {},
   "outputs": [
    {
     "data": {
      "image/png": "[encoded data removed]",
      "text/plain": [
       "Plot with title \" Histogram \""
      ]
     },
     "metadata": {
      "image/png": {
       "height": 420,
       "width": 420
      }
     },
     "output_type": "display_data"
    }
   ],
   "source": [
    "hist(LR_Model2$fitted.values,main = \" Histogram \",xlab = \"Probability of supporting trump\", col = 'red')"
   ]
  },
  {
   "cell_type": "code",
   "execution_count": 69,
   "metadata": {},
   "outputs": [
    {
     "data": {
      "image/png": "[encoded data removed]",
      "text/plain": [
       "Plot with title \" Histogram \""
      ]
     },
     "metadata": {
      "image/png": {
       "height": 420,
       "width": 420
      }
     },
     "output_type": "display_data"
    }
   ],
   "source": [
    "hist(LR_Model1$fitted.values,main = \" Histogram \",xlab = \"Probability of supporting trump\", col = 'red')"
   ]
  },
  {
   "cell_type": "code",
   "execution_count": 70,
   "metadata": {},
   "outputs": [
    {
     "data": {
      "text/html": [
       "2921.2643784907"
      ],
      "text/latex": [
       "2921.2643784907"
      ],
      "text/markdown": [
       "2921.2643784907"
      ],
      "text/plain": [
       "[1] 2921.264"
      ]
     },
     "metadata": {},
     "output_type": "display_data"
    }
   ],
   "source": [
    "LR_Model1$aic"
   ]
  },
  {
   "cell_type": "code",
   "execution_count": 31,
   "metadata": {},
   "outputs": [
    {
     "data": {
      "text/html": [
       "2900.05964876738"
      ],
      "text/latex": [
       "2900.05964876738"
      ],
      "text/markdown": [
       "2900.05964876738"
      ],
      "text/plain": [
       "[1] 2900.06"
      ]
     },
     "metadata": {},
     "output_type": "display_data"
    }
   ],
   "source": [
    "LR_Model2$aic"
   ]
  },
  {
   "cell_type": "code",
   "execution_count": 34,
   "metadata": {},
   "outputs": [],
   "source": [
    "elec_df$Predict <- ifelse(LR_Model1$fitted.values >0.5,\"Votes Trump\",\"Does Not votes Trump\")"
   ]
  },
  {
   "cell_type": "code",
   "execution_count": 35,
   "metadata": {},
   "outputs": [],
   "source": [
    "elec_df$Predict2 <- ifelse(LR_Model2$fitted.values >0.5,\"Votes Trump\",\"Does Not votes Trump\")"
   ]
  },
  {
   "cell_type": "code",
   "execution_count": 39,
   "metadata": {},
   "outputs": [
    {
     "data": {
      "text/plain": [
       "                   \n",
       "                    Predicted Negative Predicted Positive\n",
       "  Obseved Negative                 321                524\n",
       "  Observed Positive                197               1787"
      ]
     },
     "metadata": {},
     "output_type": "display_data"
    }
   ],
   "source": [
    "# Confusion matrix\n",
    "\n",
    "mytable <- table(elec_df$Support_Trump,elec_df$Predict)\n",
    "rownames(mytable) <- c(\"Obseved Negative\",\"Observed Positive\")\n",
    "colnames(mytable) <- c(\"Predicted Negative\",\"Predicted Positive\")\n",
    "mytable"
   ]
  },
  {
   "cell_type": "code",
   "execution_count": 40,
   "metadata": {},
   "outputs": [
    {
     "data": {
      "text/plain": [
       "                   \n",
       "                    Predicted Negative Predicted Positive\n",
       "  Obseved Negative                 319                526\n",
       "  Observed Positive                200               1784"
      ]
     },
     "metadata": {},
     "output_type": "display_data"
    }
   ],
   "source": [
    "# Confusion matrix\n",
    "\n",
    "mytable2 <- table(elec_df$Support_Trump,elec_df$Predict2)\n",
    "rownames(mytable2) <- c(\"Obseved Negative\",\"Observed Positive\")\n",
    "colnames(mytable2) <- c(\"Predicted Negative\",\"Predicted Positive\")\n",
    "mytable2"
   ]
  },
  {
   "cell_type": "code",
   "execution_count": 73,
   "metadata": {},
   "outputs": [
    {
     "data": {
      "text/html": [
       "0.745846588900672"
      ],
      "text/latex": [
       "0.745846588900672"
      ],
      "text/markdown": [
       "0.745846588900672"
      ],
      "text/plain": [
       "[1] 0.7458466"
      ]
     },
     "metadata": {},
     "output_type": "display_data"
    }
   ],
   "source": [
    "efficiency <- sum(diag(mytable))/sum(mytable)\n",
    "efficiency"
   ]
  },
  {
   "cell_type": "code",
   "execution_count": 41,
   "metadata": {},
   "outputs": [
    {
     "data": {
      "text/html": [
       "0.743372216330859"
      ],
      "text/latex": [
       "0.743372216330859"
      ],
      "text/markdown": [
       "0.743372216330859"
      ],
      "text/plain": [
       "[1] 0.7433722"
      ]
     },
     "metadata": {},
     "output_type": "display_data"
    }
   ],
   "source": [
    "efficiency2 <- sum(diag(mytable2))/sum(mytable2)\n",
    "efficiency2"
   ]
  },
  {
   "cell_type": "code",
   "execution_count": 74,
   "metadata": {},
   "outputs": [
    {
     "name": "stderr",
     "output_type": "stream",
     "text": [
      "Setting levels: control = 0, case = 1\n",
      "\n",
      "Setting direction: controls < cases\n",
      "\n"
     ]
    },
    {
     "data": {
      "text/plain": [
       "\n",
       "Call:\n",
       "roc.formula(formula = Support_Trump ~ LR_Model1$fitted.values,     data = elec_df, plot = TRUE, main = \"ROC CURVE\", col = \"blue\")\n",
       "\n",
       "Data: LR_Model1$fitted.values in 845 controls (Support_Trump 0) < 1984 cases (Support_Trump 1).\n",
       "Area under the curve: 0.7837"
      ]
     },
     "metadata": {},
     "output_type": "display_data"
    },
    {
     "data": {
      "image/png": "[encoded data removed]",
      "text/plain": [
       "Plot with title \"ROC CURVE\""
      ]
     },
     "metadata": {
      "image/png": {
       "height": 420,
       "width": 420
      }
     },
     "output_type": "display_data"
    }
   ],
   "source": [
    "roc(Support_Trump~LR_Model1$fitted.values, data = elec_df, plot = TRUE, main = \"ROC CURVE\", col= \"blue\")"
   ]
  },
  {
   "cell_type": "code",
   "execution_count": 42,
   "metadata": {},
   "outputs": [
    {
     "name": "stderr",
     "output_type": "stream",
     "text": [
      "Setting levels: control = 0, case = 1\n",
      "\n",
      "Setting direction: controls < cases\n",
      "\n"
     ]
    },
    {
     "data": {
      "text/plain": [
       "\n",
       "Call:\n",
       "roc.formula(formula = Support_Trump ~ LR_Model2$fitted.values,     data = elec_df, plot = TRUE, main = \"ROC CURVE\", col = \"blue\")\n",
       "\n",
       "Data: LR_Model2$fitted.values in 845 controls (Support_Trump 0) < 1984 cases (Support_Trump 1).\n",
       "Area under the curve: 0.775"
      ]
     },
     "metadata": {},
     "output_type": "display_data"
    },
    {
     "data": {
      "image/png": "[encoded data removed]",
      "text/plain": [
       "Plot with title \"ROC CURVE\""
      ]
     },
     "metadata": {
      "image/png": {
       "height": 420,
       "width": 420
      }
     },
     "output_type": "display_data"
    }
   ],
   "source": [
    "roc(Support_Trump~LR_Model2$fitted.values, data = elec_df, plot = TRUE, main = \"ROC CURVE\", col= \"blue\")"
   ]
  },
  {
   "cell_type": "code",
   "execution_count": 75,
   "metadata": {},
   "outputs": [
    {
     "name": "stderr",
     "output_type": "stream",
     "text": [
      "Setting levels: control = 0, case = 1\n",
      "\n",
      "Setting direction: controls < cases\n",
      "\n"
     ]
    },
    {
     "data": {
      "text/html": [
       "0.783665477667494"
      ],
      "text/latex": [
       "0.783665477667494"
      ],
      "text/markdown": [
       "0.783665477667494"
      ],
      "text/plain": [
       "Area under the curve: 0.7837"
      ]
     },
     "metadata": {},
     "output_type": "display_data"
    }
   ],
   "source": [
    "auc(Support_Trump~LR_Model1$fitted.values, data = elec_df)"
   ]
  },
  {
   "cell_type": "code",
   "execution_count": 43,
   "metadata": {},
   "outputs": [
    {
     "name": "stderr",
     "output_type": "stream",
     "text": [
      "Setting levels: control = 0, case = 1\n",
      "\n",
      "Setting direction: controls < cases\n",
      "\n"
     ]
    },
    {
     "data": {
      "text/html": [
       "0.775001192975759"
      ],
      "text/latex": [
       "0.775001192975759"
      ],
      "text/markdown": [
       "0.775001192975759"
      ],
      "text/plain": [
       "Area under the curve: 0.775"
      ]
     },
     "metadata": {},
     "output_type": "display_data"
    }
   ],
   "source": [
    "auc(Support_Trump~LR_Model2$fitted.values, data = elec_df)"
   ]
  },
  {
   "cell_type": "code",
   "execution_count": 76,
   "metadata": {},
   "outputs": [
    {
     "name": "stderr",
     "output_type": "stream",
     "text": [
      "Warning message in Ops.factor(1, y):\n",
      "\"'-' not meaningful for factors\"\n"
     ]
    }
   ],
   "source": [
    "hsl <- hoslem.test(elec_df$Support_Trump, fitted(LR_Model1), g = 10)"
   ]
  },
  {
   "cell_type": "code",
   "execution_count": 44,
   "metadata": {},
   "outputs": [
    {
     "name": "stderr",
     "output_type": "stream",
     "text": [
      "Warning message in Ops.factor(1, y):\n",
      "\"'-' not meaningful for factors\"\n"
     ]
    },
    {
     "data": {
      "text/plain": [
       "\n",
       "\tHosmer and Lemeshow goodness of fit (GOF) test\n",
       "\n",
       "data:  elec_df$Support_Trump, fitted(LR_Model2)\n",
       "X-squared = 2829, df = 8, p-value < 2.2e-16\n"
      ]
     },
     "metadata": {},
     "output_type": "display_data"
    }
   ],
   "source": [
    "hsl2 <- hoslem.test(elec_df$Support_Trump, fitted(LR_Model2), g = 10)\n",
    "hsl2"
   ]
  },
  {
   "cell_type": "code",
   "execution_count": 77,
   "metadata": {},
   "outputs": [
    {
     "data": {
      "text/plain": [
       "\n",
       "\tHosmer and Lemeshow goodness of fit (GOF) test\n",
       "\n",
       "data:  elec_df$Support_Trump, fitted(LR_Model1)\n",
       "X-squared = 2829, df = 8, p-value < 2.2e-16\n"
      ]
     },
     "metadata": {},
     "output_type": "display_data"
    }
   ],
   "source": [
    "hsl"
   ]
  },
  {
   "cell_type": "code",
   "execution_count": 78,
   "metadata": {},
   "outputs": [
    {
     "data": {
      "text/html": [
       "<table>\n",
       "<caption>A anova: 12 × 5</caption>\n",
       "<thead>\n",
       "\t<tr><th></th><th scope=col>Df</th><th scope=col>Deviance</th><th scope=col>Resid. Df</th><th scope=col>Resid. Dev</th><th scope=col>Pr(&gt;Chi)</th></tr>\n",
       "\t<tr><th></th><th scope=col>&lt;int&gt;</th><th scope=col>&lt;dbl&gt;</th><th scope=col>&lt;int&gt;</th><th scope=col>&lt;dbl&gt;</th><th scope=col>&lt;dbl&gt;</th></tr>\n",
       "</thead>\n",
       "<tbody>\n",
       "\t<tr><th scope=row>NULL</th><td>NA</td><td>        NA</td><td>2828</td><td>3449.977</td><td>          NA</td></tr>\n",
       "\t<tr><th scope=row>Age_Category</th><td> 3</td><td> 11.283779</td><td>2825</td><td>3438.693</td><td>1.028630e-02</td></tr>\n",
       "\t<tr><th scope=row>Sex</th><td> 1</td><td> 26.895223</td><td>2824</td><td>3411.798</td><td>2.147891e-07</td></tr>\n",
       "\t<tr><th scope=row>Education_Category</th><td> 5</td><td> 24.290796</td><td>2819</td><td>3387.507</td><td>1.908822e-04</td></tr>\n",
       "\t<tr><th scope=row>Race_Ethinicity</th><td> 3</td><td>175.469018</td><td>2816</td><td>3212.038</td><td>8.392307e-38</td></tr>\n",
       "\t<tr><th scope=row>Religion</th><td>11</td><td> 96.163660</td><td>2805</td><td>3115.875</td><td>1.023482e-15</td></tr>\n",
       "\t<tr><th scope=row>Party</th><td> 2</td><td>231.539406</td><td>2803</td><td>2884.335</td><td>5.270560e-51</td></tr>\n",
       "\t<tr><th scope=row>Marital_status</th><td> 5</td><td>  8.012027</td><td>2798</td><td>2876.323</td><td>1.555740e-01</td></tr>\n",
       "\t<tr><th scope=row>Internet_frequency</th><td> 5</td><td>  1.728648</td><td>2793</td><td>2874.595</td><td>8.852711e-01</td></tr>\n",
       "\t<tr><th scope=row>Income_Recode</th><td> 2</td><td>  2.188762</td><td>2791</td><td>2872.406</td><td>3.347467e-01</td></tr>\n",
       "\t<tr><th scope=row>Combining_Race</th><td> 4</td><td>  6.322995</td><td>2787</td><td>2866.083</td><td>1.762904e-01</td></tr>\n",
       "\t<tr><th scope=row>Ideology</th><td> 4</td><td> 36.818462</td><td>2783</td><td>2829.264</td><td>1.963274e-07</td></tr>\n",
       "</tbody>\n",
       "</table>\n"
      ],
      "text/latex": [
       "A anova: 12 × 5\n",
       "\\begin{tabular}{r|lllll}\n",
       "  & Df & Deviance & Resid. Df & Resid. Dev & Pr(>Chi)\\\\\n",
       "  & <int> & <dbl> & <int> & <dbl> & <dbl>\\\\\n",
       "\\hline\n",
       "\tNULL & NA &         NA & 2828 & 3449.977 &           NA\\\\\n",
       "\tAge\\_Category &  3 &  11.283779 & 2825 & 3438.693 & 1.028630e-02\\\\\n",
       "\tSex &  1 &  26.895223 & 2824 & 3411.798 & 2.147891e-07\\\\\n",
       "\tEducation\\_Category &  5 &  24.290796 & 2819 & 3387.507 & 1.908822e-04\\\\\n",
       "\tRace\\_Ethinicity &  3 & 175.469018 & 2816 & 3212.038 & 8.392307e-38\\\\\n",
       "\tReligion & 11 &  96.163660 & 2805 & 3115.875 & 1.023482e-15\\\\\n",
       "\tParty &  2 & 231.539406 & 2803 & 2884.335 & 5.270560e-51\\\\\n",
       "\tMarital\\_status &  5 &   8.012027 & 2798 & 2876.323 & 1.555740e-01\\\\\n",
       "\tInternet\\_frequency &  5 &   1.728648 & 2793 & 2874.595 & 8.852711e-01\\\\\n",
       "\tIncome\\_Recode &  2 &   2.188762 & 2791 & 2872.406 & 3.347467e-01\\\\\n",
       "\tCombining\\_Race &  4 &   6.322995 & 2787 & 2866.083 & 1.762904e-01\\\\\n",
       "\tIdeology &  4 &  36.818462 & 2783 & 2829.264 & 1.963274e-07\\\\\n",
       "\\end{tabular}\n"
      ],
      "text/markdown": [
       "\n",
       "A anova: 12 × 5\n",
       "\n",
       "| <!--/--> | Df &lt;int&gt; | Deviance &lt;dbl&gt; | Resid. Df &lt;int&gt; | Resid. Dev &lt;dbl&gt; | Pr(&gt;Chi) &lt;dbl&gt; |\n",
       "|---|---|---|---|---|---|\n",
       "| NULL | NA |         NA | 2828 | 3449.977 |           NA |\n",
       "| Age_Category |  3 |  11.283779 | 2825 | 3438.693 | 1.028630e-02 |\n",
       "| Sex |  1 |  26.895223 | 2824 | 3411.798 | 2.147891e-07 |\n",
       "| Education_Category |  5 |  24.290796 | 2819 | 3387.507 | 1.908822e-04 |\n",
       "| Race_Ethinicity |  3 | 175.469018 | 2816 | 3212.038 | 8.392307e-38 |\n",
       "| Religion | 11 |  96.163660 | 2805 | 3115.875 | 1.023482e-15 |\n",
       "| Party |  2 | 231.539406 | 2803 | 2884.335 | 5.270560e-51 |\n",
       "| Marital_status |  5 |   8.012027 | 2798 | 2876.323 | 1.555740e-01 |\n",
       "| Internet_frequency |  5 |   1.728648 | 2793 | 2874.595 | 8.852711e-01 |\n",
       "| Income_Recode |  2 |   2.188762 | 2791 | 2872.406 | 3.347467e-01 |\n",
       "| Combining_Race |  4 |   6.322995 | 2787 | 2866.083 | 1.762904e-01 |\n",
       "| Ideology |  4 |  36.818462 | 2783 | 2829.264 | 1.963274e-07 |\n",
       "\n"
      ],
      "text/plain": [
       "                   Df Deviance   Resid. Df Resid. Dev Pr(>Chi)    \n",
       "NULL               NA         NA 2828      3449.977             NA\n",
       "Age_Category        3  11.283779 2825      3438.693   1.028630e-02\n",
       "Sex                 1  26.895223 2824      3411.798   2.147891e-07\n",
       "Education_Category  5  24.290796 2819      3387.507   1.908822e-04\n",
       "Race_Ethinicity     3 175.469018 2816      3212.038   8.392307e-38\n",
       "Religion           11  96.163660 2805      3115.875   1.023482e-15\n",
       "Party               2 231.539406 2803      2884.335   5.270560e-51\n",
       "Marital_status      5   8.012027 2798      2876.323   1.555740e-01\n",
       "Internet_frequency  5   1.728648 2793      2874.595   8.852711e-01\n",
       "Income_Recode       2   2.188762 2791      2872.406   3.347467e-01\n",
       "Combining_Race      4   6.322995 2787      2866.083   1.762904e-01\n",
       "Ideology            4  36.818462 2783      2829.264   1.963274e-07"
      ]
     },
     "metadata": {},
     "output_type": "display_data"
    }
   ],
   "source": [
    "chisq <- anova(LR_Model1,test='Chisq')\n",
    "chisq"
   ]
  },
  {
   "cell_type": "code",
   "execution_count": 45,
   "metadata": {},
   "outputs": [
    {
     "data": {
      "text/html": [
       "<table>\n",
       "<caption>A anova: 7 × 5</caption>\n",
       "<thead>\n",
       "\t<tr><th></th><th scope=col>Df</th><th scope=col>Deviance</th><th scope=col>Resid. Df</th><th scope=col>Resid. Dev</th><th scope=col>Pr(&gt;Chi)</th></tr>\n",
       "\t<tr><th></th><th scope=col>&lt;int&gt;</th><th scope=col>&lt;dbl&gt;</th><th scope=col>&lt;int&gt;</th><th scope=col>&lt;dbl&gt;</th><th scope=col>&lt;dbl&gt;</th></tr>\n",
       "</thead>\n",
       "<tbody>\n",
       "\t<tr><th scope=row>NULL</th><td>NA</td><td>        NA</td><td>2828</td><td>3449.977</td><td>          NA</td></tr>\n",
       "\t<tr><th scope=row>Sex</th><td> 1</td><td> 27.127561</td><td>2827</td><td>3422.850</td><td>1.904631e-07</td></tr>\n",
       "\t<tr><th scope=row>Education_Category</th><td> 5</td><td> 23.375381</td><td>2822</td><td>3399.474</td><td>2.861048e-04</td></tr>\n",
       "\t<tr><th scope=row>Party</th><td> 2</td><td>403.946779</td><td>2820</td><td>2995.527</td><td>1.923409e-88</td></tr>\n",
       "\t<tr><th scope=row>Income_Recode</th><td> 2</td><td>  9.686485</td><td>2818</td><td>2985.841</td><td>7.881457e-03</td></tr>\n",
       "\t<tr><th scope=row>Combining_Race</th><td> 4</td><td> 80.375746</td><td>2814</td><td>2905.465</td><td>1.450100e-16</td></tr>\n",
       "\t<tr><th scope=row>Ideology</th><td> 4</td><td> 43.405553</td><td>2810</td><td>2862.060</td><td>8.524774e-09</td></tr>\n",
       "</tbody>\n",
       "</table>\n"
      ],
      "text/latex": [
       "A anova: 7 × 5\n",
       "\\begin{tabular}{r|lllll}\n",
       "  & Df & Deviance & Resid. Df & Resid. Dev & Pr(>Chi)\\\\\n",
       "  & <int> & <dbl> & <int> & <dbl> & <dbl>\\\\\n",
       "\\hline\n",
       "\tNULL & NA &         NA & 2828 & 3449.977 &           NA\\\\\n",
       "\tSex &  1 &  27.127561 & 2827 & 3422.850 & 1.904631e-07\\\\\n",
       "\tEducation\\_Category &  5 &  23.375381 & 2822 & 3399.474 & 2.861048e-04\\\\\n",
       "\tParty &  2 & 403.946779 & 2820 & 2995.527 & 1.923409e-88\\\\\n",
       "\tIncome\\_Recode &  2 &   9.686485 & 2818 & 2985.841 & 7.881457e-03\\\\\n",
       "\tCombining\\_Race &  4 &  80.375746 & 2814 & 2905.465 & 1.450100e-16\\\\\n",
       "\tIdeology &  4 &  43.405553 & 2810 & 2862.060 & 8.524774e-09\\\\\n",
       "\\end{tabular}\n"
      ],
      "text/markdown": [
       "\n",
       "A anova: 7 × 5\n",
       "\n",
       "| <!--/--> | Df &lt;int&gt; | Deviance &lt;dbl&gt; | Resid. Df &lt;int&gt; | Resid. Dev &lt;dbl&gt; | Pr(&gt;Chi) &lt;dbl&gt; |\n",
       "|---|---|---|---|---|---|\n",
       "| NULL | NA |         NA | 2828 | 3449.977 |           NA |\n",
       "| Sex |  1 |  27.127561 | 2827 | 3422.850 | 1.904631e-07 |\n",
       "| Education_Category |  5 |  23.375381 | 2822 | 3399.474 | 2.861048e-04 |\n",
       "| Party |  2 | 403.946779 | 2820 | 2995.527 | 1.923409e-88 |\n",
       "| Income_Recode |  2 |   9.686485 | 2818 | 2985.841 | 7.881457e-03 |\n",
       "| Combining_Race |  4 |  80.375746 | 2814 | 2905.465 | 1.450100e-16 |\n",
       "| Ideology |  4 |  43.405553 | 2810 | 2862.060 | 8.524774e-09 |\n",
       "\n"
      ],
      "text/plain": [
       "                   Df Deviance   Resid. Df Resid. Dev Pr(>Chi)    \n",
       "NULL               NA         NA 2828      3449.977             NA\n",
       "Sex                 1  27.127561 2827      3422.850   1.904631e-07\n",
       "Education_Category  5  23.375381 2822      3399.474   2.861048e-04\n",
       "Party               2 403.946779 2820      2995.527   1.923409e-88\n",
       "Income_Recode       2   9.686485 2818      2985.841   7.881457e-03\n",
       "Combining_Race      4  80.375746 2814      2905.465   1.450100e-16\n",
       "Ideology            4  43.405553 2810      2862.060   8.524774e-09"
      ]
     },
     "metadata": {},
     "output_type": "display_data"
    }
   ],
   "source": [
    "chisq <- anova(LR_Model2,test='Chisq')\n",
    "chisq"
   ]
  },
  {
   "cell_type": "code",
   "execution_count": 92,
   "metadata": {},
   "outputs": [
    {
     "data": {
      "text/html": [
       "<strong>CoxSnell:</strong> 0.197008111436035"
      ],
      "text/latex": [
       "\\textbf{CoxSnell:} 0.197008111436035"
      ],
      "text/markdown": [
       "**CoxSnell:** 0.197008111436035"
      ],
      "text/plain": [
       " CoxSnell \n",
       "0.1970081 "
      ]
     },
     "metadata": {},
     "output_type": "display_data"
    },
    {
     "data": {
      "text/html": [
       "<strong>Nagelkerke:</strong> 0.279593485012717"
      ],
      "text/latex": [
       "\\textbf{Nagelkerke:} 0.279593485012717"
      ],
      "text/markdown": [
       "**Nagelkerke:** 0.279593485012717"
      ],
      "text/plain": [
       "Nagelkerke \n",
       " 0.2795935 "
      ]
     },
     "metadata": {},
     "output_type": "display_data"
    }
   ],
   "source": [
    "PseudoR2(LR_Model1, which = \"CoxSnell\")\n",
    "PseudoR2(LR_Model1, which = \"Nagelkerke\")"
   ]
  },
  {
   "cell_type": "code",
   "execution_count": 46,
   "metadata": {},
   "outputs": [
    {
     "data": {
      "text/html": [
       "<strong>CoxSnell:</strong> 0.187645238207481"
      ],
      "text/latex": [
       "\\textbf{CoxSnell:} 0.187645238207481"
      ],
      "text/markdown": [
       "**CoxSnell:** 0.187645238207481"
      ],
      "text/plain": [
       " CoxSnell \n",
       "0.1876452 "
      ]
     },
     "metadata": {},
     "output_type": "display_data"
    },
    {
     "data": {
      "text/html": [
       "<strong>Nagelkerke:</strong> 0.266305715607579"
      ],
      "text/latex": [
       "\\textbf{Nagelkerke:} 0.266305715607579"
      ],
      "text/markdown": [
       "**Nagelkerke:** 0.266305715607579"
      ],
      "text/plain": [
       "Nagelkerke \n",
       " 0.2663057 "
      ]
     },
     "metadata": {},
     "output_type": "display_data"
    }
   ],
   "source": [
    "PseudoR2(LR_Model2, which = \"CoxSnell\")\n",
    "PseudoR2(LR_Model2, which = \"Nagelkerke\")"
   ]
  },
  {
   "cell_type": "code",
   "execution_count": 84,
   "metadata": {},
   "outputs": [
    {
     "data": {
      "text/html": [
       "<strong>Nagelkerke:</strong> 0.279593485012717"
      ],
      "text/latex": [
       "\\textbf{Nagelkerke:} 0.279593485012717"
      ],
      "text/markdown": [
       "**Nagelkerke:** 0.279593485012717"
      ],
      "text/plain": [
       "Nagelkerke \n",
       " 0.2795935 "
      ]
     },
     "metadata": {},
     "output_type": "display_data"
    }
   ],
   "source": [
    "PseudoR2(LR_Model1, which = \"Nagelkerke\")"
   ]
  },
  {
   "cell_type": "code",
   "execution_count": 93,
   "metadata": {},
   "outputs": [
    {
     "data": {
      "text/plain": [
       "Wald test for Age_Category Sex Education_Category Race_Ethinicity Religion Party Marital_status Internet_frequency Income_Recode Combining_Race Ideology:Support_Trump\n",
       " in glm(formula = Support_Trump ~ Age_Category + Sex + Education_Category + \n",
       "    Race_Ethinicity + Religion + Party + Marital_status + Internet_frequency + \n",
       "    Income_Recode + Combining_Race + Ideology, family = binomial(link = \"logit\"), \n",
       "    data = elec_df)\n",
       "F =  6.918718  on  41  and  2783  df: p= < 2.22e-16 "
      ]
     },
     "metadata": {},
     "output_type": "display_data"
    }
   ],
   "source": [
    "regTermTest(LR_Model1, ~ Age_Category + Sex + Education_Category + \n",
    "    Race_Ethinicity + Religion + Party + Marital_status + Internet_frequency + \n",
    "    Income_Recode + Combining_Race + Ideology: Support_Trump  , null=NULL)\n"
   ]
  },
  {
   "cell_type": "code",
   "execution_count": 47,
   "metadata": {},
   "outputs": [
    {
     "data": {
      "text/plain": [
       "Wald test for Sex Education_Category Party Income_Recode Combining_Race Ideology:Support_Trump\n",
       " in glm(formula = Support_Trump ~ Sex + Education_Category + Party + \n",
       "    Income_Recode + Combining_Race + Ideology, family = binomial(link = \"logit\"), \n",
       "    data = elec_df)\n",
       "F =  18.60938  on  14  and  2810  df: p= < 2.22e-16 "
      ]
     },
     "metadata": {},
     "output_type": "display_data"
    }
   ],
   "source": [
    "regTermTest(LR_Model2, ~ Sex + Education_Category + Party + \n",
    "    Income_Recode + Combining_Race + Ideology: Support_Trump, null=NULL)"
   ]
  },
  {
   "cell_type": "code",
   "execution_count": 56,
   "metadata": {},
   "outputs": [
    {
     "data": {
      "text/plain": [
       "                          Sex Female Male\n",
       "Support_Trump Party                      \n",
       "0             Democrat           319  204\n",
       "              Independent        117  124\n",
       "              Republican          44   37\n",
       "1             Democrat           281  239\n",
       "              Independent        236  397\n",
       "              Republican         398  433"
      ]
     },
     "metadata": {},
     "output_type": "display_data"
    },
    {
     "data": {
      "image/png": "[encoded data removed]",
      "text/plain": [
       "plot without title"
      ]
     },
     "metadata": {
      "image/png": {
       "height": 420,
       "width": 420
      }
     },
     "output_type": "display_data"
    }
   ],
   "source": [
    "tbl <- xtabs(~Support_Trump + Party\t+ Sex , elec_df)\n",
    "ftable(tbl)\n",
    "mosaic(tbl, main = \"Election data\")"
   ]
  },
  {
   "cell_type": "code",
   "execution_count": 57,
   "metadata": {},
   "outputs": [
    {
     "data": {
      "image/png": "[encoded data removed]",
      "text/plain": [
       "plot without title"
      ]
     },
     "metadata": {
      "image/png": {
       "height": 420,
       "width": 420
      }
     },
     "output_type": "display_data"
    }
   ],
   "source": [
    "mosaic(tbl, \n",
    "       shade = TRUE,\n",
    "       legend = TRUE,\n",
    "       labeling_args = list(set_varnames = c(Sex = \"Gender\",\n",
    "                                             Support_Trump = \"Support Trump\",\n",
    "                                             Party = \"Party Lean\")),\n",
    "       set_labels = list(Support_Trump= c(\"Supports Trump\", \"Does not supports Trump\"),\n",
    "                         Sex = c(\"Female\", \"Male\")),\n",
    "       main = \"Election data\")"
   ]
  },
  {
   "cell_type": "code",
   "execution_count": null,
   "metadata": {},
   "outputs": [],
   "source": []
  },
  {
   "cell_type": "code",
   "execution_count": null,
   "metadata": {},
   "outputs": [],
   "source": []
  },
  {
   "cell_type": "code",
   "execution_count": null,
   "metadata": {},
   "outputs": [],
   "source": []
  },
  {
   "cell_type": "code",
   "execution_count": null,
   "metadata": {},
   "outputs": [],
   "source": []
  },
  {
   "cell_type": "code",
   "execution_count": null,
   "metadata": {},
   "outputs": [],
   "source": []
  },
  {
   "cell_type": "code",
   "execution_count": null,
   "metadata": {},
   "outputs": [],
   "source": []
  },
  {
   "cell_type": "code",
   "execution_count": null,
   "metadata": {},
   "outputs": [],
   "source": []
  },
  {
   "cell_type": "code",
   "execution_count": null,
   "metadata": {},
   "outputs": [],
   "source": []
  },
  {
   "cell_type": "code",
   "execution_count": null,
   "metadata": {},
   "outputs": [],
   "source": []
  },
  {
   "cell_type": "code",
   "execution_count": null,
   "metadata": {},
   "outputs": [],
   "source": []
  },
  {
   "cell_type": "code",
   "execution_count": null,
   "metadata": {},
   "outputs": [],
   "source": []
  },
  {
   "cell_type": "code",
   "execution_count": null,
   "metadata": {},
   "outputs": [],
   "source": []
  },
  {
   "cell_type": "code",
   "execution_count": null,
   "metadata": {},
   "outputs": [],
   "source": []
  },
  {
   "cell_type": "code",
   "execution_count": null,
   "metadata": {},
   "outputs": [],
   "source": []
  },
  {
   "cell_type": "code",
   "execution_count": null,
   "metadata": {},
   "outputs": [],
   "source": []
  },
  {
   "cell_type": "code",
   "execution_count": null,
   "metadata": {},
   "outputs": [],
   "source": []
  },
  {
   "cell_type": "code",
   "execution_count": null,
   "metadata": {},
   "outputs": [],
   "source": []
  },
  {
   "cell_type": "code",
   "execution_count": null,
   "metadata": {},
   "outputs": [],
   "source": []
  },
  {
   "cell_type": "code",
   "execution_count": null,
   "metadata": {},
   "outputs": [],
   "source": []
  },
  {
   "cell_type": "code",
   "execution_count": null,
   "metadata": {},
   "outputs": [],
   "source": []
  },
  {
   "cell_type": "code",
   "execution_count": null,
   "metadata": {},
   "outputs": [],
   "source": []
  },
  {
   "cell_type": "code",
   "execution_count": null,
   "metadata": {},
   "outputs": [],
   "source": []
  },
  {
   "cell_type": "code",
   "execution_count": null,
   "metadata": {},
   "outputs": [],
   "source": []
  },
  {
   "cell_type": "code",
   "execution_count": null,
   "metadata": {},
   "outputs": [],
   "source": []
  },
  {
   "cell_type": "code",
   "execution_count": null,
   "metadata": {},
   "outputs": [],
   "source": []
  },
  {
   "cell_type": "code",
   "execution_count": null,
   "metadata": {},
   "outputs": [],
   "source": []
  },
  {
   "cell_type": "code",
   "execution_count": null,
   "metadata": {},
   "outputs": [],
   "source": []
  },
  {
   "cell_type": "code",
   "execution_count": null,
   "metadata": {},
   "outputs": [],
   "source": []
  },
  {
   "cell_type": "code",
   "execution_count": null,
   "metadata": {},
   "outputs": [],
   "source": []
  },
  {
   "cell_type": "code",
   "execution_count": null,
   "metadata": {},
   "outputs": [],
   "source": []
  },
  {
   "cell_type": "code",
   "execution_count": null,
   "metadata": {},
   "outputs": [],
   "source": []
  },
  {
   "cell_type": "code",
   "execution_count": null,
   "metadata": {},
   "outputs": [],
   "source": []
  },
  {
   "cell_type": "code",
   "execution_count": null,
   "metadata": {},
   "outputs": [],
   "source": []
  },
  {
   "cell_type": "code",
   "execution_count": null,
   "metadata": {},
   "outputs": [],
   "source": []
  },
  {
   "cell_type": "code",
   "execution_count": null,
   "metadata": {},
   "outputs": [],
   "source": []
  },
  {
   "cell_type": "code",
   "execution_count": null,
   "metadata": {},
   "outputs": [],
   "source": []
  },
  {
   "cell_type": "code",
   "execution_count": null,
   "metadata": {},
   "outputs": [],
   "source": []
  },
  {
   "cell_type": "code",
   "execution_count": null,
   "metadata": {},
   "outputs": [],
   "source": []
  },
  {
   "cell_type": "code",
   "execution_count": null,
   "metadata": {},
   "outputs": [],
   "source": []
  },
  {
   "cell_type": "code",
   "execution_count": null,
   "metadata": {},
   "outputs": [],
   "source": []
  },
  {
   "cell_type": "code",
   "execution_count": null,
   "metadata": {},
   "outputs": [],
   "source": []
  },
  {
   "cell_type": "code",
   "execution_count": null,
   "metadata": {},
   "outputs": [],
   "source": []
  },
  {
   "cell_type": "code",
   "execution_count": null,
   "metadata": {},
   "outputs": [],
   "source": []
  },
  {
   "cell_type": "code",
   "execution_count": null,
   "metadata": {},
   "outputs": [],
   "source": []
  },
  {
   "cell_type": "code",
   "execution_count": null,
   "metadata": {},
   "outputs": [],
   "source": []
  },
  {
   "cell_type": "code",
   "execution_count": null,
   "metadata": {},
   "outputs": [],
   "source": []
  },
  {
   "cell_type": "code",
   "execution_count": null,
   "metadata": {},
   "outputs": [],
   "source": []
  },
  {
   "cell_type": "code",
   "execution_count": null,
   "metadata": {},
   "outputs": [],
   "source": []
  },
  {
   "cell_type": "code",
   "execution_count": null,
   "metadata": {},
   "outputs": [],
   "source": []
  },
  {
   "cell_type": "code",
   "execution_count": null,
   "metadata": {},
   "outputs": [],
   "source": []
  },
  {
   "cell_type": "code",
   "execution_count": null,
   "metadata": {},
   "outputs": [],
   "source": []
  },
  {
   "cell_type": "code",
   "execution_count": null,
   "metadata": {},
   "outputs": [],
   "source": []
  },
  {
   "cell_type": "code",
   "execution_count": null,
   "metadata": {},
   "outputs": [],
   "source": []
  },
  {
   "cell_type": "code",
   "execution_count": null,
   "metadata": {},
   "outputs": [],
   "source": []
  },
  {
   "cell_type": "code",
   "execution_count": null,
   "metadata": {},
   "outputs": [],
   "source": []
  }
 ],
 "metadata": {
  "kernelspec": {
   "display_name": "R",
   "language": "R",
   "name": "ir"
  },
  "language_info": {
   "codemirror_mode": "r",
   "file_extension": ".r",
   "mimetype": "text/x-r-source",
   "name": "R",
   "pygments_lexer": "r",
   "version": "4.0.3"
  }
 },
 "nbformat": 4,
 "nbformat_minor": 4
}
