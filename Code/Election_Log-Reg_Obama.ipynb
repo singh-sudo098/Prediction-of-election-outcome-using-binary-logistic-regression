{
 "cells": [
  {
   "cell_type": "code",
   "execution_count": 56,
   "metadata": {},
   "outputs": [
    {
     "name": "stderr",
     "output_type": "stream",
     "text": [
      "Installing package into 'C:/Users/Jaswinder Singh/Documents/R/win-library/4.0'\n",
      "(as 'lib' is unspecified)\n",
      "\n",
      "also installing the dependency 'pbapply'\n",
      "\n",
      "\n"
     ]
    },
    {
     "name": "stdout",
     "output_type": "stream",
     "text": [
      "package 'pbapply' successfully unpacked and MD5 sums checked\n",
      "package 'ResourceSelection' successfully unpacked and MD5 sums checked\n",
      "\n",
      "The downloaded binary packages are in\n",
      "\tC:\\Users\\Jaswinder Singh\\AppData\\Local\\Temp\\Rtmp6nIm2a\\downloaded_packages\n"
     ]
    }
   ],
   "source": [
    "# install.packages('haven')\n",
    "# install.packages('tidyverse')\n",
    "install.packages('ResourceSelection')"
   ]
  },
  {
   "cell_type": "code",
   "execution_count": 1,
   "metadata": {},
   "outputs": [
    {
     "name": "stderr",
     "output_type": "stream",
     "text": [
      "-- \u001b[1mAttaching packages\u001b[22m --------------------------------------- tidyverse 1.3.0 --\n",
      "\n",
      "\u001b[32mv\u001b[39m \u001b[34mggplot2\u001b[39m 3.3.2     \u001b[32mv\u001b[39m \u001b[34mpurrr  \u001b[39m 0.3.4\n",
      "\u001b[32mv\u001b[39m \u001b[34mtibble \u001b[39m 3.0.4     \u001b[32mv\u001b[39m \u001b[34mdplyr  \u001b[39m 1.0.2\n",
      "\u001b[32mv\u001b[39m \u001b[34mtidyr  \u001b[39m 1.1.2     \u001b[32mv\u001b[39m \u001b[34mstringr\u001b[39m 1.4.0\n",
      "\u001b[32mv\u001b[39m \u001b[34mreadr  \u001b[39m 1.4.0     \u001b[32mv\u001b[39m \u001b[34mforcats\u001b[39m 0.5.0\n",
      "\n",
      "-- \u001b[1mConflicts\u001b[22m ------------------------------------------ tidyverse_conflicts() --\n",
      "\u001b[31mx\u001b[39m \u001b[34mdplyr\u001b[39m::\u001b[32mfilter()\u001b[39m masks \u001b[34mstats\u001b[39m::filter()\n",
      "\u001b[31mx\u001b[39m \u001b[34mdplyr\u001b[39m::\u001b[32mlag()\u001b[39m    masks \u001b[34mstats\u001b[39m::lag()\n",
      "\n",
      "\n",
      "Attaching package: 'MASS'\n",
      "\n",
      "\n",
      "The following object is masked from 'package:dplyr':\n",
      "\n",
      "    select\n",
      "\n",
      "\n",
      "Type 'citation(\"pROC\")' for a citation.\n",
      "\n",
      "\n",
      "Attaching package: 'pROC'\n",
      "\n",
      "\n",
      "The following objects are masked from 'package:stats':\n",
      "\n",
      "    cov, smooth, var\n",
      "\n",
      "\n",
      "ResourceSelection 0.3-5 \t 2019-07-22\n",
      "\n"
     ]
    }
   ],
   "source": [
    "library(haven)\n",
    "library(tidyverse)\n",
    "library(mlbench)\n",
    "library(MASS)\n",
    "library(pROC)\n",
    "library(ResourceSelection)"
   ]
  },
  {
   "cell_type": "code",
   "execution_count": 3,
   "metadata": {},
   "outputs": [],
   "source": [
    "elec <- read.csv('C:/Users/Jaswinder Singh/Downloads/Statistics/Data/Logistic Regression/Election_obama.csv')"
   ]
  },
  {
   "cell_type": "code",
   "execution_count": 4,
   "metadata": {},
   "outputs": [
    {
     "data": {
      "text/html": [
       "<table>\n",
       "<caption>A data.frame: 6 × 10</caption>\n",
       "<thead>\n",
       "\t<tr><th></th><th scope=col>ft_dem</th><th scope=col>ft_rep</th><th scope=col>race</th><th scope=col>income</th><th scope=col>sex</th><th scope=col>white</th><th scope=col>black</th><th scope=col>hispanic</th><th scope=col>other</th><th scope=col>vote_obama</th></tr>\n",
       "\t<tr><th></th><th scope=col>&lt;int&gt;</th><th scope=col>&lt;int&gt;</th><th scope=col>&lt;int&gt;</th><th scope=col>&lt;int&gt;</th><th scope=col>&lt;int&gt;</th><th scope=col>&lt;int&gt;</th><th scope=col>&lt;int&gt;</th><th scope=col>&lt;int&gt;</th><th scope=col>&lt;int&gt;</th><th scope=col>&lt;int&gt;</th></tr>\n",
       "</thead>\n",
       "<tbody>\n",
       "\t<tr><th scope=row>1</th><td>100</td><td> 0</td><td>2</td><td> 3</td><td>1</td><td>0</td><td>1</td><td>0</td><td>0</td><td>1</td></tr>\n",
       "\t<tr><th scope=row>2</th><td>100</td><td>85</td><td>2</td><td> 2</td><td>1</td><td>0</td><td>1</td><td>0</td><td>0</td><td>1</td></tr>\n",
       "\t<tr><th scope=row>3</th><td> 70</td><td>40</td><td>2</td><td>13</td><td>0</td><td>0</td><td>1</td><td>0</td><td>0</td><td>1</td></tr>\n",
       "\t<tr><th scope=row>4</th><td>100</td><td>15</td><td>2</td><td> 1</td><td>1</td><td>0</td><td>1</td><td>0</td><td>0</td><td>1</td></tr>\n",
       "\t<tr><th scope=row>5</th><td> 50</td><td>60</td><td>1</td><td> 9</td><td>0</td><td>1</td><td>0</td><td>0</td><td>0</td><td>0</td></tr>\n",
       "\t<tr><th scope=row>6</th><td> 30</td><td>15</td><td>1</td><td>27</td><td>0</td><td>1</td><td>0</td><td>0</td><td>0</td><td>0</td></tr>\n",
       "</tbody>\n",
       "</table>\n"
      ],
      "text/latex": [
       "A data.frame: 6 × 10\n",
       "\\begin{tabular}{r|llllllllll}\n",
       "  & ft\\_dem & ft\\_rep & race & income & sex & white & black & hispanic & other & vote\\_obama\\\\\n",
       "  & <int> & <int> & <int> & <int> & <int> & <int> & <int> & <int> & <int> & <int>\\\\\n",
       "\\hline\n",
       "\t1 & 100 &  0 & 2 &  3 & 1 & 0 & 1 & 0 & 0 & 1\\\\\n",
       "\t2 & 100 & 85 & 2 &  2 & 1 & 0 & 1 & 0 & 0 & 1\\\\\n",
       "\t3 &  70 & 40 & 2 & 13 & 0 & 0 & 1 & 0 & 0 & 1\\\\\n",
       "\t4 & 100 & 15 & 2 &  1 & 1 & 0 & 1 & 0 & 0 & 1\\\\\n",
       "\t5 &  50 & 60 & 1 &  9 & 0 & 1 & 0 & 0 & 0 & 0\\\\\n",
       "\t6 &  30 & 15 & 1 & 27 & 0 & 1 & 0 & 0 & 0 & 0\\\\\n",
       "\\end{tabular}\n"
      ],
      "text/markdown": [
       "\n",
       "A data.frame: 6 × 10\n",
       "\n",
       "| <!--/--> | ft_dem &lt;int&gt; | ft_rep &lt;int&gt; | race &lt;int&gt; | income &lt;int&gt; | sex &lt;int&gt; | white &lt;int&gt; | black &lt;int&gt; | hispanic &lt;int&gt; | other &lt;int&gt; | vote_obama &lt;int&gt; |\n",
       "|---|---|---|---|---|---|---|---|---|---|---|\n",
       "| 1 | 100 |  0 | 2 |  3 | 1 | 0 | 1 | 0 | 0 | 1 |\n",
       "| 2 | 100 | 85 | 2 |  2 | 1 | 0 | 1 | 0 | 0 | 1 |\n",
       "| 3 |  70 | 40 | 2 | 13 | 0 | 0 | 1 | 0 | 0 | 1 |\n",
       "| 4 | 100 | 15 | 2 |  1 | 1 | 0 | 1 | 0 | 0 | 1 |\n",
       "| 5 |  50 | 60 | 1 |  9 | 0 | 1 | 0 | 0 | 0 | 0 |\n",
       "| 6 |  30 | 15 | 1 | 27 | 0 | 1 | 0 | 0 | 0 | 0 |\n",
       "\n"
      ],
      "text/plain": [
       "  ft_dem ft_rep race income sex white black hispanic other vote_obama\n",
       "1 100     0     2     3     1   0     1     0        0     1         \n",
       "2 100    85     2     2     1   0     1     0        0     1         \n",
       "3  70    40     2    13     0   0     1     0        0     1         \n",
       "4 100    15     2     1     1   0     1     0        0     1         \n",
       "5  50    60     1     9     0   1     0     0        0     0         \n",
       "6  30    15     1    27     0   1     0     0        0     0         "
      ]
     },
     "metadata": {},
     "output_type": "display_data"
    }
   ],
   "source": [
    "head(elec)"
   ]
  },
  {
   "cell_type": "code",
   "execution_count": 5,
   "metadata": {},
   "outputs": [
    {
     "name": "stdout",
     "output_type": "stream",
     "text": [
      "Rows: 3,870\n",
      "Columns: 10\n",
      "$ ft_dem     \u001b[3m\u001b[90m<int>\u001b[39m\u001b[23m 100, 100, 70, 100, 50, 30, 70, 0, 15, 85, 30, 50, 30, 30...\n",
      "$ ft_rep     \u001b[3m\u001b[90m<int>\u001b[39m\u001b[23m 0, 85, 40, 15, 60, 15, 30, 60, 40, 30, 40, 50, 70, 30, 1...\n",
      "$ race       \u001b[3m\u001b[90m<int>\u001b[39m\u001b[23m 2, 2, 2, 2, 1, 1, 1, 1, 1, 1, 1, 1, 1, 1, 1, 2, 2, 3, 3,...\n",
      "$ income     \u001b[3m\u001b[90m<int>\u001b[39m\u001b[23m 3, 2, 13, 1, 9, 27, 24, 25, 26, 7, 9, 13, 9, 14, 3, 23, ...\n",
      "$ sex        \u001b[3m\u001b[90m<int>\u001b[39m\u001b[23m 1, 1, 0, 1, 0, 0, 1, 1, 0, 1, 0, 0, 0, 0, 0, 1, 1, 1, 1,...\n",
      "$ white      \u001b[3m\u001b[90m<int>\u001b[39m\u001b[23m 0, 0, 0, 0, 1, 1, 1, 1, 1, 1, 1, 1, 1, 1, 1, 0, 0, 0, 0,...\n",
      "$ black      \u001b[3m\u001b[90m<int>\u001b[39m\u001b[23m 1, 1, 1, 1, 0, 0, 0, 0, 0, 0, 0, 0, 0, 0, 0, 1, 1, 0, 0,...\n",
      "$ hispanic   \u001b[3m\u001b[90m<int>\u001b[39m\u001b[23m 0, 0, 0, 0, 0, 0, 0, 0, 0, 0, 0, 0, 0, 0, 0, 0, 0, 1, 1,...\n",
      "$ other      \u001b[3m\u001b[90m<int>\u001b[39m\u001b[23m 0, 0, 0, 0, 0, 0, 0, 0, 0, 0, 0, 0, 0, 0, 0, 0, 0, 0, 0,...\n",
      "$ vote_obama \u001b[3m\u001b[90m<int>\u001b[39m\u001b[23m 1, 1, 1, 1, 0, 0, 1, 0, 0, 1, 0, 0, 0, 1, 1, 1, 1, 1, 1,...\n"
     ]
    }
   ],
   "source": [
    "glimpse(elec)"
   ]
  },
  {
   "cell_type": "code",
   "execution_count": 6,
   "metadata": {},
   "outputs": [
    {
     "name": "stdout",
     "output_type": "stream",
     "text": [
      "'data.frame':\t3870 obs. of  10 variables:\n",
      " $ ft_dem    : int  100 100 70 100 50 30 70 0 15 85 ...\n",
      " $ ft_rep    : int  0 85 40 15 60 15 30 60 40 30 ...\n",
      " $ race      : int  2 2 2 2 1 1 1 1 1 1 ...\n",
      " $ income    : int  3 2 13 1 9 27 24 25 26 7 ...\n",
      " $ sex       : int  1 1 0 1 0 0 1 1 0 1 ...\n",
      " $ white     : int  0 0 0 0 1 1 1 1 1 1 ...\n",
      " $ black     : int  1 1 1 1 0 0 0 0 0 0 ...\n",
      " $ hispanic  : int  0 0 0 0 0 0 0 0 0 0 ...\n",
      " $ other     : int  0 0 0 0 0 0 0 0 0 0 ...\n",
      " $ vote_obama: int  1 1 1 1 0 0 1 0 0 1 ...\n"
     ]
    }
   ],
   "source": [
    "str(elec)"
   ]
  },
  {
   "cell_type": "code",
   "execution_count": 20,
   "metadata": {},
   "outputs": [],
   "source": [
    "attach(elec)"
   ]
  },
  {
   "cell_type": "code",
   "execution_count": 21,
   "metadata": {},
   "outputs": [
    {
     "data": {
      "text/plain": [
       "vote_obama\n",
       "   0    1 \n",
       "1598 2272 "
      ]
     },
     "metadata": {},
     "output_type": "display_data"
    }
   ],
   "source": [
    "table(vote_obama)"
   ]
  },
  {
   "cell_type": "code",
   "execution_count": 22,
   "metadata": {},
   "outputs": [
    {
     "data": {
      "image/png": "[encoded data removed]",
      "text/plain": [
       "Plot with title \"hispanic\""
      ]
     },
     "metadata": {
      "image/png": {
       "height": 420,
       "width": 420
      }
     },
     "output_type": "display_data"
    }
   ],
   "source": [
    "par(mfrow = c(4,2))\n",
    "for(i in 1:8) {\n",
    "    hist(elec[,i], main = colnames(elec)[i], xlab = colnames(elec)[i], col = 'yellow')\n",
    "}  "
   ]
  },
  {
   "cell_type": "code",
   "execution_count": null,
   "metadata": {},
   "outputs": [],
   "source": []
  },
  {
   "cell_type": "code",
   "execution_count": 23,
   "metadata": {},
   "outputs": [
    {
     "name": "stdout",
     "output_type": "stream",
     "text": [
      "'data.frame':\t3870 obs. of  10 variables:\n",
      " $ ft_dem    : int  100 100 70 100 50 30 70 0 15 85 ...\n",
      " $ ft_rep    : int  0 85 40 15 60 15 30 60 40 30 ...\n",
      " $ race      : int  2 2 2 2 1 1 1 1 1 1 ...\n",
      " $ income    : int  3 2 13 1 9 27 24 25 26 7 ...\n",
      " $ sex       : int  1 1 0 1 0 0 1 1 0 1 ...\n",
      " $ white     : int  0 0 0 0 1 1 1 1 1 1 ...\n",
      " $ black     : int  1 1 1 1 0 0 0 0 0 0 ...\n",
      " $ hispanic  : int  0 0 0 0 0 0 0 0 0 0 ...\n",
      " $ other     : int  0 0 0 0 0 0 0 0 0 0 ...\n",
      " $ vote_obama: int  1 1 1 1 0 0 1 0 0 1 ...\n"
     ]
    }
   ],
   "source": [
    "str(elec)"
   ]
  },
  {
   "cell_type": "code",
   "execution_count": 7,
   "metadata": {},
   "outputs": [
    {
     "ename": "ERROR",
     "evalue": "Error in eval(predvars, data, env): object 'vote_obama' not found\n",
     "output_type": "error",
     "traceback": [
      "Error in eval(predvars, data, env): object 'vote_obama' not found\nTraceback:\n",
      "1. glm(vote_obama ~ ft_dem + ft_rep + black + hispanic + other + \n .     income, family = binomial(link = logit))",
      "2. eval(mf, parent.frame())",
      "3. eval(mf, parent.frame())",
      "4. stats::model.frame(formula = vote_obama ~ ft_dem + ft_rep + black + \n .     hispanic + other + income, drop.unused.levels = TRUE)",
      "5. model.frame.default(formula = vote_obama ~ ft_dem + ft_rep + \n .     black + hispanic + other + income, drop.unused.levels = TRUE)",
      "6. eval(predvars, data, env)",
      "7. eval(predvars, data, env)"
     ]
    }
   ],
   "source": [
    "Model1 <- glm(vote_obama ~ ft_dem + ft_rep\n",
    "          + black + hispanic + other\n",
    "          + income,\n",
    "          family=binomial(link=logit))"
   ]
  },
  {
   "cell_type": "code",
   "execution_count": 25,
   "metadata": {},
   "outputs": [
    {
     "data": {
      "text/plain": [
       "\n",
       "Call:\n",
       "glm(formula = vote_obama ~ ft_dem + ft_rep + black + hispanic + \n",
       "    other + income, family = binomial(link = logit))\n",
       "\n",
       "Deviance Residuals: \n",
       "    Min       1Q   Median       3Q      Max  \n",
       "-4.2260  -0.1350   0.0140   0.1639   4.1982  \n",
       "\n",
       "Coefficients:\n",
       "             Estimate Std. Error z value Pr(>|z|)    \n",
       "(Intercept) -0.223619   0.253391  -0.883   0.3775    \n",
       "ft_dem       0.093786   0.004278  21.923  < 2e-16 ***\n",
       "ft_rep      -0.090827   0.004182 -21.716  < 2e-16 ***\n",
       "black        3.165810   0.394835   8.018 1.07e-15 ***\n",
       "hispanic     0.969995   0.189366   5.122 3.02e-07 ***\n",
       "other        0.558628   0.254384   2.196   0.0281 *  \n",
       "income      -0.025063   0.008530  -2.938   0.0033 ** \n",
       "---\n",
       "Signif. codes:  0 '***' 0.001 '**' 0.01 '*' 0.05 '.' 0.1 ' ' 1\n",
       "\n",
       "(Dispersion parameter for binomial family taken to be 1)\n",
       "\n",
       "    Null deviance: 5247.0  on 3869  degrees of freedom\n",
       "Residual deviance: 1467.8  on 3863  degrees of freedom\n",
       "AIC: 1481.8\n",
       "\n",
       "Number of Fisher Scoring iterations: 8\n"
      ]
     },
     "metadata": {},
     "output_type": "display_data"
    }
   ],
   "source": [
    "summary(Model1)"
   ]
  },
  {
   "cell_type": "code",
   "execution_count": 29,
   "metadata": {},
   "outputs": [
    {
     "data": {
      "image/png": "[encoded data removed]",
      "text/plain": [
       "plot without title"
      ]
     },
     "metadata": {
      "image/png": {
       "height": 420,
       "width": 420
      }
     },
     "output_type": "display_data"
    }
   ],
   "source": [
    "par(mfrow = c(2,2))\n",
    "boxplot(ft_dem~vote_obama, ylab=\"ft_dem\", xlab= \"vote_obama\", col=\"light blue\",data = elec)\n",
    "boxplot(ft_rep~vote_obama, ylab=\"ft_rep\", xlab= \"vote_obama\", col=\"light blue\",data = elec)\n",
    "# boxplot(black~vote_obama, ylab=\"black\", xlab= \"vote_obama\", col=\"light blue\",data = elec)\n",
    "# boxplot(hispanic~vote_obama, ylab=\"hispanic\", xlab= \"vote_obama\", col=\"light blue\",data = elec)\n",
    "# boxplot(other~vote_obama, ylab=\"other\", xlab= \"vote_obama\", col=\"light blue\",data = elec)\n",
    "boxplot(income~vote_obama, ylab=\"income\", xlab= \"vote_obama\", col=\"light blue\",data = elec)"
   ]
  },
  {
   "cell_type": "code",
   "execution_count": 33,
   "metadata": {},
   "outputs": [
    {
     "data": {
      "text/html": [
       "<style>\n",
       ".dl-inline {width: auto; margin:0; padding: 0}\n",
       ".dl-inline>dt, .dl-inline>dd {float: none; width: auto; display: inline-block}\n",
       ".dl-inline>dt::after {content: \":\\0020\"; padding-right: .5ex}\n",
       ".dl-inline>dt:not(:first-of-type) {padding-left: .5ex}\n",
       "</style><dl class=dl-inline><dt>(Intercept)</dt><dd>0.8</dd><dt>ft_dem</dt><dd>1.098</dd><dt>ft_rep</dt><dd>0.913</dd><dt>black</dt><dd>23.708</dd><dt>hispanic</dt><dd>2.638</dd><dt>other</dt><dd>1.748</dd><dt>income</dt><dd>0.975</dd></dl>\n"
      ],
      "text/latex": [
       "\\begin{description*}\n",
       "\\item[(Intercept)] 0.8\n",
       "\\item[ft\\textbackslash{}\\_dem] 1.098\n",
       "\\item[ft\\textbackslash{}\\_rep] 0.913\n",
       "\\item[black] 23.708\n",
       "\\item[hispanic] 2.638\n",
       "\\item[other] 1.748\n",
       "\\item[income] 0.975\n",
       "\\end{description*}\n"
      ],
      "text/markdown": [
       "(Intercept)\n",
       ":   0.8ft_dem\n",
       ":   1.098ft_rep\n",
       ":   0.913black\n",
       ":   23.708hispanic\n",
       ":   2.638other\n",
       ":   1.748income\n",
       ":   0.975\n",
       "\n"
      ],
      "text/plain": [
       "(Intercept)      ft_dem      ft_rep       black    hispanic       other \n",
       "      0.800       1.098       0.913      23.708       2.638       1.748 \n",
       "     income \n",
       "      0.975 "
      ]
     },
     "metadata": {},
     "output_type": "display_data"
    }
   ],
   "source": [
    "round(exp(coef(Model1)), digits = 3)"
   ]
  },
  {
   "cell_type": "code",
   "execution_count": 38,
   "metadata": {},
   "outputs": [
    {
     "name": "stdout",
     "output_type": "stream",
     "text": [
      "Start:  AIC=1481.76\n",
      "vote_obama ~ ft_dem + ft_rep + black + hispanic + other + income\n",
      "\n",
      "           Df Deviance    AIC\n",
      "<none>          1467.8 1481.8\n",
      "- other     1   1472.6 1484.6\n",
      "- income    1   1476.5 1488.5\n",
      "- hispanic  1   1495.0 1507.0\n",
      "- black     1   1585.1 1597.1\n",
      "- ft_rep    1   2363.2 2375.2\n",
      "- ft_dem    1   2414.8 2426.8\n"
     ]
    }
   ],
   "source": [
    "Model_2 <- stepAIC(Model1)"
   ]
  },
  {
   "cell_type": "code",
   "execution_count": 40,
   "metadata": {},
   "outputs": [
    {
     "data": {
      "text/plain": [
       "\n",
       "Call:\n",
       "glm(formula = vote_obama ~ ft_dem + ft_rep + black + hispanic + \n",
       "    other + income, family = binomial(link = logit))\n",
       "\n",
       "Deviance Residuals: \n",
       "    Min       1Q   Median       3Q      Max  \n",
       "-4.2260  -0.1350   0.0140   0.1639   4.1982  \n",
       "\n",
       "Coefficients:\n",
       "             Estimate Std. Error z value Pr(>|z|)    \n",
       "(Intercept) -0.223619   0.253391  -0.883   0.3775    \n",
       "ft_dem       0.093786   0.004278  21.923  < 2e-16 ***\n",
       "ft_rep      -0.090827   0.004182 -21.716  < 2e-16 ***\n",
       "black        3.165810   0.394835   8.018 1.07e-15 ***\n",
       "hispanic     0.969995   0.189366   5.122 3.02e-07 ***\n",
       "other        0.558628   0.254384   2.196   0.0281 *  \n",
       "income      -0.025063   0.008530  -2.938   0.0033 ** \n",
       "---\n",
       "Signif. codes:  0 '***' 0.001 '**' 0.01 '*' 0.05 '.' 0.1 ' ' 1\n",
       "\n",
       "(Dispersion parameter for binomial family taken to be 1)\n",
       "\n",
       "    Null deviance: 5247.0  on 3869  degrees of freedom\n",
       "Residual deviance: 1467.8  on 3863  degrees of freedom\n",
       "AIC: 1481.8\n",
       "\n",
       "Number of Fisher Scoring iterations: 8\n"
      ]
     },
     "metadata": {},
     "output_type": "display_data"
    }
   ],
   "source": [
    "summary(Model_2)"
   ]
  },
  {
   "cell_type": "code",
   "execution_count": 41,
   "metadata": {},
   "outputs": [
    {
     "data": {
      "image/png": "[encoded data removed]",
      "text/plain": [
       "Plot with title \" Histogram \""
      ]
     },
     "metadata": {
      "image/png": {
       "height": 420,
       "width": 420
      }
     },
     "output_type": "display_data"
    }
   ],
   "source": [
    "hist(Model_2$fitted.values,main = \" Histogram \",xlab = \"Probability of voting obama\", col = 'red')"
   ]
  },
  {
   "cell_type": "code",
   "execution_count": 42,
   "metadata": {},
   "outputs": [
    {
     "data": {
      "text/html": [
       "1481.75894173106"
      ],
      "text/latex": [
       "1481.75894173106"
      ],
      "text/markdown": [
       "1481.75894173106"
      ],
      "text/plain": [
       "[1] 1481.759"
      ]
     },
     "metadata": {},
     "output_type": "display_data"
    }
   ],
   "source": [
    "Model_2$aic"
   ]
  },
  {
   "cell_type": "code",
   "execution_count": 43,
   "metadata": {},
   "outputs": [
    {
     "data": {
      "text/html": [
       "1481.75894173106"
      ],
      "text/latex": [
       "1481.75894173106"
      ],
      "text/markdown": [
       "1481.75894173106"
      ],
      "text/plain": [
       "[1] 1481.759"
      ]
     },
     "metadata": {},
     "output_type": "display_data"
    }
   ],
   "source": [
    "Model1$aic"
   ]
  },
  {
   "cell_type": "code",
   "execution_count": 46,
   "metadata": {},
   "outputs": [],
   "source": [
    "elec$Predict <- ifelse(Model_2$fitted.values >0.5,\"Votes Obama\",\"Does Not votes Obama\")"
   ]
  },
  {
   "cell_type": "code",
   "execution_count": 54,
   "metadata": {},
   "outputs": [
    {
     "data": {
      "text/plain": [
       "                   \n",
       "                    Predicted Negative Predicted Positive\n",
       "  Obseved Negative                1485                113\n",
       "  Observed Positive                170               2102"
      ]
     },
     "metadata": {},
     "output_type": "display_data"
    }
   ],
   "source": [
    "# Confusion matrix\n",
    "\n",
    "mytable <- table(elec$vote_obama,elec$Predict)\n",
    "rownames(mytable) <- c(\"Obseved Negative\",\"Observed Positive\")\n",
    "colnames(mytable) <- c(\"Predicted Negative\",\"Predicted Positive\")\n",
    "mytable"
   ]
  },
  {
   "cell_type": "code",
   "execution_count": 48,
   "metadata": {},
   "outputs": [
    {
     "data": {
      "text/html": [
       "0.92687338501292"
      ],
      "text/latex": [
       "0.92687338501292"
      ],
      "text/markdown": [
       "0.92687338501292"
      ],
      "text/plain": [
       "[1] 0.9268734"
      ]
     },
     "metadata": {},
     "output_type": "display_data"
    }
   ],
   "source": [
    "efficiency <- sum(diag(mytable))/sum(mytable)\n",
    "efficiency"
   ]
  },
  {
   "cell_type": "code",
   "execution_count": 50,
   "metadata": {},
   "outputs": [
    {
     "name": "stderr",
     "output_type": "stream",
     "text": [
      "Setting levels: control = 0, case = 1\n",
      "\n",
      "Setting direction: controls < cases\n",
      "\n"
     ]
    },
    {
     "data": {
      "text/plain": [
       "\n",
       "Call:\n",
       "roc.formula(formula = vote_obama ~ Model_2$fitted.values, data = elec,     plot = TRUE, main = \"ROC CURVE\", col = \"blue\")\n",
       "\n",
       "Data: Model_2$fitted.values in 1598 controls (vote_obama 0) < 2272 cases (vote_obama 1).\n",
       "Area under the curve: 0.9776"
      ]
     },
     "metadata": {},
     "output_type": "display_data"
    },
    {
     "data": {
      "image/png": "[encoded data removed]",
      "text/plain": [
       "Plot with title \"ROC CURVE\""
      ]
     },
     "metadata": {
      "image/png": {
       "height": 420,
       "width": 420
      }
     },
     "output_type": "display_data"
    }
   ],
   "source": [
    "roc(vote_obama~Model_2$fitted.values, data = elec, plot = TRUE, main = \"ROC CURVE\", col= \"blue\")"
   ]
  },
  {
   "cell_type": "code",
   "execution_count": 53,
   "metadata": {},
   "outputs": [
    {
     "name": "stderr",
     "output_type": "stream",
     "text": [
      "Setting levels: control = 0, case = 1\n",
      "\n",
      "Setting direction: controls < cases\n",
      "\n"
     ]
    },
    {
     "data": {
      "text/html": [
       "0.977606250771211"
      ],
      "text/latex": [
       "0.977606250771211"
      ],
      "text/markdown": [
       "0.977606250771211"
      ],
      "text/plain": [
       "Area under the curve: 0.9776"
      ]
     },
     "metadata": {},
     "output_type": "display_data"
    }
   ],
   "source": [
    "auc(vote_obama~Model_2$fitted.values, data = elec)"
   ]
  },
  {
   "cell_type": "code",
   "execution_count": 77,
   "metadata": {},
   "outputs": [],
   "source": [
    "hl <- hoslem.test(elec$vote_obama, fitted(Model1), g = 10)"
   ]
  },
  {
   "cell_type": "code",
   "execution_count": null,
   "metadata": {},
   "outputs": [],
   "source": []
  },
  {
   "cell_type": "code",
   "execution_count": 73,
   "metadata": {},
   "outputs": [
    {
     "data": {
      "text/plain": [
       "\n",
       "\tHosmer and Lemeshow goodness of fit (GOF) test\n",
       "\n",
       "data:  elec$vote_obama, fitted(Model_2)\n",
       "X-squared = 144.67, df = 8, p-value < 2.2e-16\n"
      ]
     },
     "metadata": {},
     "output_type": "display_data"
    }
   ],
   "source": [
    "hl"
   ]
  },
  {
   "cell_type": "code",
   "execution_count": 76,
   "metadata": {},
   "outputs": [
    {
     "ename": "ERROR",
     "evalue": "Error in model.frame.default(formula = cbind(y0 = 1 - y, y1 = y) ~ cutyhat): variable lengths differ (found for 'cutyhat')\n",
     "output_type": "error",
     "traceback": [
      "Error in model.frame.default(formula = cbind(y0 = 1 - y, y1 = y) ~ cutyhat): variable lengths differ (found for 'cutyhat')\nTraceback:\n",
      "1. print(hoslem.test(Model1$vote_obama, fitted(Model1), g = i)$p.value)",
      "2. hoslem.test(Model1$vote_obama, fitted(Model1), g = i)",
      "3. xtabs(cbind(y0 = 1 - y, y1 = y) ~ cutyhat)",
      "4. eval(m, parent.frame())",
      "5. eval(m, parent.frame())",
      "6. stats::model.frame(formula = cbind(y0 = 1 - y, y1 = y) ~ cutyhat)",
      "7. model.frame.default(formula = cbind(y0 = 1 - y, y1 = y) ~ cutyhat)"
     ]
    }
   ],
   "source": [
    "for (i in 5:15) {\n",
    "\tprint(hoslem.test(Model1$vote_obama, fitted(Model1), g=i)$p.value)\n",
    "}"
   ]
  },
  {
   "cell_type": "code",
   "execution_count": null,
   "metadata": {},
   "outputs": [],
   "source": []
  },
  {
   "cell_type": "code",
   "execution_count": null,
   "metadata": {},
   "outputs": [],
   "source": []
  },
  {
   "cell_type": "code",
   "execution_count": null,
   "metadata": {},
   "outputs": [],
   "source": []
  },
  {
   "cell_type": "code",
   "execution_count": null,
   "metadata": {},
   "outputs": [],
   "source": []
  },
  {
   "cell_type": "code",
   "execution_count": null,
   "metadata": {},
   "outputs": [],
   "source": []
  },
  {
   "cell_type": "code",
   "execution_count": null,
   "metadata": {},
   "outputs": [],
   "source": []
  },
  {
   "cell_type": "code",
   "execution_count": null,
   "metadata": {},
   "outputs": [],
   "source": []
  },
  {
   "cell_type": "code",
   "execution_count": null,
   "metadata": {},
   "outputs": [],
   "source": []
  },
  {
   "cell_type": "code",
   "execution_count": null,
   "metadata": {},
   "outputs": [],
   "source": []
  },
  {
   "cell_type": "code",
   "execution_count": null,
   "metadata": {},
   "outputs": [],
   "source": []
  },
  {
   "cell_type": "code",
   "execution_count": null,
   "metadata": {},
   "outputs": [],
   "source": []
  },
  {
   "cell_type": "code",
   "execution_count": null,
   "metadata": {},
   "outputs": [],
   "source": []
  },
  {
   "cell_type": "code",
   "execution_count": null,
   "metadata": {},
   "outputs": [],
   "source": []
  },
  {
   "cell_type": "code",
   "execution_count": null,
   "metadata": {},
   "outputs": [],
   "source": []
  },
  {
   "cell_type": "code",
   "execution_count": null,
   "metadata": {},
   "outputs": [],
   "source": []
  },
  {
   "cell_type": "code",
   "execution_count": null,
   "metadata": {},
   "outputs": [],
   "source": []
  },
  {
   "cell_type": "code",
   "execution_count": null,
   "metadata": {},
   "outputs": [],
   "source": []
  },
  {
   "cell_type": "code",
   "execution_count": null,
   "metadata": {},
   "outputs": [],
   "source": []
  },
  {
   "cell_type": "code",
   "execution_count": null,
   "metadata": {},
   "outputs": [],
   "source": []
  },
  {
   "cell_type": "code",
   "execution_count": null,
   "metadata": {},
   "outputs": [],
   "source": []
  },
  {
   "cell_type": "code",
   "execution_count": null,
   "metadata": {},
   "outputs": [],
   "source": []
  },
  {
   "cell_type": "code",
   "execution_count": null,
   "metadata": {},
   "outputs": [],
   "source": []
  },
  {
   "cell_type": "code",
   "execution_count": null,
   "metadata": {},
   "outputs": [],
   "source": []
  },
  {
   "cell_type": "code",
   "execution_count": null,
   "metadata": {},
   "outputs": [],
   "source": []
  },
  {
   "cell_type": "code",
   "execution_count": null,
   "metadata": {},
   "outputs": [],
   "source": []
  },
  {
   "cell_type": "code",
   "execution_count": null,
   "metadata": {},
   "outputs": [],
   "source": []
  },
  {
   "cell_type": "code",
   "execution_count": null,
   "metadata": {},
   "outputs": [],
   "source": []
  },
  {
   "cell_type": "code",
   "execution_count": null,
   "metadata": {},
   "outputs": [],
   "source": []
  },
  {
   "cell_type": "code",
   "execution_count": null,
   "metadata": {},
   "outputs": [],
   "source": []
  },
  {
   "cell_type": "code",
   "execution_count": null,
   "metadata": {},
   "outputs": [],
   "source": []
  },
  {
   "cell_type": "code",
   "execution_count": null,
   "metadata": {},
   "outputs": [],
   "source": []
  },
  {
   "cell_type": "code",
   "execution_count": null,
   "metadata": {},
   "outputs": [],
   "source": []
  },
  {
   "cell_type": "code",
   "execution_count": null,
   "metadata": {},
   "outputs": [],
   "source": []
  },
  {
   "cell_type": "code",
   "execution_count": null,
   "metadata": {},
   "outputs": [],
   "source": []
  },
  {
   "cell_type": "code",
   "execution_count": null,
   "metadata": {},
   "outputs": [],
   "source": []
  },
  {
   "cell_type": "code",
   "execution_count": null,
   "metadata": {},
   "outputs": [],
   "source": []
  },
  {
   "cell_type": "code",
   "execution_count": null,
   "metadata": {},
   "outputs": [],
   "source": []
  },
  {
   "cell_type": "code",
   "execution_count": null,
   "metadata": {},
   "outputs": [],
   "source": []
  },
  {
   "cell_type": "code",
   "execution_count": null,
   "metadata": {},
   "outputs": [],
   "source": []
  },
  {
   "cell_type": "code",
   "execution_count": null,
   "metadata": {},
   "outputs": [],
   "source": []
  },
  {
   "cell_type": "code",
   "execution_count": null,
   "metadata": {},
   "outputs": [],
   "source": []
  },
  {
   "cell_type": "code",
   "execution_count": null,
   "metadata": {},
   "outputs": [],
   "source": []
  },
  {
   "cell_type": "code",
   "execution_count": null,
   "metadata": {},
   "outputs": [],
   "source": []
  },
  {
   "cell_type": "code",
   "execution_count": null,
   "metadata": {},
   "outputs": [],
   "source": []
  },
  {
   "cell_type": "code",
   "execution_count": null,
   "metadata": {},
   "outputs": [],
   "source": []
  },
  {
   "cell_type": "code",
   "execution_count": null,
   "metadata": {},
   "outputs": [],
   "source": []
  },
  {
   "cell_type": "code",
   "execution_count": null,
   "metadata": {},
   "outputs": [],
   "source": []
  },
  {
   "cell_type": "code",
   "execution_count": null,
   "metadata": {},
   "outputs": [],
   "source": []
  },
  {
   "cell_type": "code",
   "execution_count": null,
   "metadata": {},
   "outputs": [],
   "source": []
  },
  {
   "cell_type": "code",
   "execution_count": null,
   "metadata": {},
   "outputs": [],
   "source": []
  },
  {
   "cell_type": "code",
   "execution_count": null,
   "metadata": {},
   "outputs": [],
   "source": []
  },
  {
   "cell_type": "code",
   "execution_count": null,
   "metadata": {},
   "outputs": [],
   "source": []
  },
  {
   "cell_type": "code",
   "execution_count": null,
   "metadata": {},
   "outputs": [],
   "source": []
  },
  {
   "cell_type": "code",
   "execution_count": null,
   "metadata": {},
   "outputs": [],
   "source": []
  },
  {
   "cell_type": "code",
   "execution_count": null,
   "metadata": {},
   "outputs": [],
   "source": []
  },
  {
   "cell_type": "code",
   "execution_count": null,
   "metadata": {},
   "outputs": [],
   "source": []
  },
  {
   "cell_type": "code",
   "execution_count": null,
   "metadata": {},
   "outputs": [],
   "source": []
  },
  {
   "cell_type": "code",
   "execution_count": null,
   "metadata": {},
   "outputs": [],
   "source": []
  },
  {
   "cell_type": "code",
   "execution_count": null,
   "metadata": {},
   "outputs": [],
   "source": []
  },
  {
   "cell_type": "code",
   "execution_count": null,
   "metadata": {},
   "outputs": [],
   "source": []
  },
  {
   "cell_type": "code",
   "execution_count": null,
   "metadata": {},
   "outputs": [],
   "source": []
  },
  {
   "cell_type": "code",
   "execution_count": null,
   "metadata": {},
   "outputs": [],
   "source": []
  },
  {
   "cell_type": "code",
   "execution_count": null,
   "metadata": {},
   "outputs": [],
   "source": []
  },
  {
   "cell_type": "code",
   "execution_count": null,
   "metadata": {},
   "outputs": [],
   "source": []
  },
  {
   "cell_type": "code",
   "execution_count": null,
   "metadata": {},
   "outputs": [],
   "source": []
  },
  {
   "cell_type": "code",
   "execution_count": null,
   "metadata": {},
   "outputs": [],
   "source": []
  },
  {
   "cell_type": "code",
   "execution_count": null,
   "metadata": {},
   "outputs": [],
   "source": []
  },
  {
   "cell_type": "code",
   "execution_count": null,
   "metadata": {},
   "outputs": [],
   "source": []
  },
  {
   "cell_type": "code",
   "execution_count": null,
   "metadata": {},
   "outputs": [],
   "source": []
  },
  {
   "cell_type": "code",
   "execution_count": null,
   "metadata": {},
   "outputs": [],
   "source": []
  },
  {
   "cell_type": "code",
   "execution_count": null,
   "metadata": {},
   "outputs": [],
   "source": []
  },
  {
   "cell_type": "code",
   "execution_count": null,
   "metadata": {},
   "outputs": [],
   "source": []
  },
  {
   "cell_type": "code",
   "execution_count": null,
   "metadata": {},
   "outputs": [],
   "source": []
  },
  {
   "cell_type": "code",
   "execution_count": null,
   "metadata": {},
   "outputs": [],
   "source": []
  },
  {
   "cell_type": "code",
   "execution_count": null,
   "metadata": {},
   "outputs": [],
   "source": []
  },
  {
   "cell_type": "code",
   "execution_count": null,
   "metadata": {},
   "outputs": [],
   "source": []
  },
  {
   "cell_type": "code",
   "execution_count": null,
   "metadata": {},
   "outputs": [],
   "source": []
  },
  {
   "cell_type": "code",
   "execution_count": null,
   "metadata": {},
   "outputs": [],
   "source": []
  },
  {
   "cell_type": "code",
   "execution_count": null,
   "metadata": {},
   "outputs": [],
   "source": []
  },
  {
   "cell_type": "code",
   "execution_count": null,
   "metadata": {},
   "outputs": [],
   "source": []
  },
  {
   "cell_type": "code",
   "execution_count": null,
   "metadata": {},
   "outputs": [],
   "source": []
  },
  {
   "cell_type": "code",
   "execution_count": null,
   "metadata": {},
   "outputs": [],
   "source": []
  },
  {
   "cell_type": "code",
   "execution_count": null,
   "metadata": {},
   "outputs": [],
   "source": []
  },
  {
   "cell_type": "code",
   "execution_count": null,
   "metadata": {},
   "outputs": [],
   "source": []
  },
  {
   "cell_type": "code",
   "execution_count": null,
   "metadata": {},
   "outputs": [],
   "source": []
  },
  {
   "cell_type": "code",
   "execution_count": null,
   "metadata": {},
   "outputs": [],
   "source": []
  },
  {
   "cell_type": "code",
   "execution_count": null,
   "metadata": {},
   "outputs": [],
   "source": []
  },
  {
   "cell_type": "code",
   "execution_count": null,
   "metadata": {},
   "outputs": [],
   "source": []
  },
  {
   "cell_type": "code",
   "execution_count": null,
   "metadata": {},
   "outputs": [],
   "source": []
  },
  {
   "cell_type": "code",
   "execution_count": null,
   "metadata": {},
   "outputs": [],
   "source": []
  },
  {
   "cell_type": "code",
   "execution_count": null,
   "metadata": {},
   "outputs": [],
   "source": []
  },
  {
   "cell_type": "code",
   "execution_count": null,
   "metadata": {},
   "outputs": [],
   "source": []
  },
  {
   "cell_type": "code",
   "execution_count": null,
   "metadata": {},
   "outputs": [],
   "source": []
  },
  {
   "cell_type": "code",
   "execution_count": null,
   "metadata": {},
   "outputs": [],
   "source": []
  },
  {
   "cell_type": "code",
   "execution_count": null,
   "metadata": {},
   "outputs": [],
   "source": []
  },
  {
   "cell_type": "code",
   "execution_count": null,
   "metadata": {},
   "outputs": [],
   "source": []
  },
  {
   "cell_type": "code",
   "execution_count": null,
   "metadata": {},
   "outputs": [],
   "source": []
  },
  {
   "cell_type": "code",
   "execution_count": null,
   "metadata": {},
   "outputs": [],
   "source": []
  },
  {
   "cell_type": "code",
   "execution_count": null,
   "metadata": {},
   "outputs": [],
   "source": []
  },
  {
   "cell_type": "code",
   "execution_count": null,
   "metadata": {},
   "outputs": [],
   "source": []
  },
  {
   "cell_type": "code",
   "execution_count": null,
   "metadata": {},
   "outputs": [],
   "source": []
  },
  {
   "cell_type": "code",
   "execution_count": null,
   "metadata": {},
   "outputs": [],
   "source": []
  },
  {
   "cell_type": "code",
   "execution_count": null,
   "metadata": {},
   "outputs": [],
   "source": []
  },
  {
   "cell_type": "code",
   "execution_count": null,
   "metadata": {},
   "outputs": [],
   "source": []
  },
  {
   "cell_type": "code",
   "execution_count": null,
   "metadata": {},
   "outputs": [],
   "source": []
  },
  {
   "cell_type": "code",
   "execution_count": null,
   "metadata": {},
   "outputs": [],
   "source": []
  },
  {
   "cell_type": "code",
   "execution_count": null,
   "metadata": {},
   "outputs": [],
   "source": []
  },
  {
   "cell_type": "code",
   "execution_count": null,
   "metadata": {},
   "outputs": [],
   "source": []
  },
  {
   "cell_type": "code",
   "execution_count": null,
   "metadata": {},
   "outputs": [],
   "source": []
  },
  {
   "cell_type": "code",
   "execution_count": null,
   "metadata": {},
   "outputs": [],
   "source": []
  },
  {
   "cell_type": "code",
   "execution_count": null,
   "metadata": {},
   "outputs": [],
   "source": []
  },
  {
   "cell_type": "code",
   "execution_count": null,
   "metadata": {},
   "outputs": [],
   "source": []
  },
  {
   "cell_type": "code",
   "execution_count": null,
   "metadata": {},
   "outputs": [],
   "source": []
  },
  {
   "cell_type": "code",
   "execution_count": null,
   "metadata": {},
   "outputs": [],
   "source": []
  },
  {
   "cell_type": "code",
   "execution_count": null,
   "metadata": {},
   "outputs": [],
   "source": []
  },
  {
   "cell_type": "code",
   "execution_count": null,
   "metadata": {},
   "outputs": [],
   "source": []
  },
  {
   "cell_type": "code",
   "execution_count": null,
   "metadata": {},
   "outputs": [],
   "source": []
  },
  {
   "cell_type": "code",
   "execution_count": null,
   "metadata": {},
   "outputs": [],
   "source": []
  },
  {
   "cell_type": "code",
   "execution_count": null,
   "metadata": {},
   "outputs": [],
   "source": []
  },
  {
   "cell_type": "code",
   "execution_count": null,
   "metadata": {},
   "outputs": [],
   "source": []
  },
  {
   "cell_type": "code",
   "execution_count": null,
   "metadata": {},
   "outputs": [],
   "source": []
  },
  {
   "cell_type": "code",
   "execution_count": null,
   "metadata": {},
   "outputs": [],
   "source": []
  },
  {
   "cell_type": "code",
   "execution_count": null,
   "metadata": {},
   "outputs": [],
   "source": []
  },
  {
   "cell_type": "code",
   "execution_count": null,
   "metadata": {},
   "outputs": [],
   "source": []
  },
  {
   "cell_type": "code",
   "execution_count": null,
   "metadata": {},
   "outputs": [],
   "source": []
  },
  {
   "cell_type": "code",
   "execution_count": null,
   "metadata": {},
   "outputs": [],
   "source": []
  },
  {
   "cell_type": "code",
   "execution_count": null,
   "metadata": {},
   "outputs": [],
   "source": []
  },
  {
   "cell_type": "code",
   "execution_count": null,
   "metadata": {},
   "outputs": [],
   "source": []
  },
  {
   "cell_type": "code",
   "execution_count": null,
   "metadata": {},
   "outputs": [],
   "source": []
  },
  {
   "cell_type": "code",
   "execution_count": null,
   "metadata": {},
   "outputs": [],
   "source": []
  },
  {
   "cell_type": "code",
   "execution_count": null,
   "metadata": {},
   "outputs": [],
   "source": []
  }
 ],
 "metadata": {
  "kernelspec": {
   "display_name": "R",
   "language": "R",
   "name": "ir"
  },
  "language_info": {
   "codemirror_mode": "r",
   "file_extension": ".r",
   "mimetype": "text/x-r-source",
   "name": "R",
   "pygments_lexer": "r",
   "version": "4.0.3"
  }
 },
 "nbformat": 4,
 "nbformat_minor": 4
}
