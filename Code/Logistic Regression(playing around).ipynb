{
 "cells": [
  {
   "cell_type": "code",
   "execution_count": 2,
   "metadata": {},
   "outputs": [
    {
     "name": "stderr",
     "output_type": "stream",
     "text": [
      "Installing package into 'C:/Users/Jaswinder Singh/Documents/R/win-library/4.0'\n",
      "(as 'lib' is unspecified)\n",
      "\n"
     ]
    },
    {
     "name": "stdout",
     "output_type": "stream",
     "text": [
      "package 'mlbench' successfully unpacked and MD5 sums checked\n",
      "\n",
      "The downloaded binary packages are in\n",
      "\tC:\\Users\\Jaswinder Singh\\AppData\\Local\\Temp\\RtmpKwkhY3\\downloaded_packages\n"
     ]
    },
    {
     "name": "stderr",
     "output_type": "stream",
     "text": [
      "Installing package into 'C:/Users/Jaswinder Singh/Documents/R/win-library/4.0'\n",
      "(as 'lib' is unspecified)\n",
      "\n"
     ]
    },
    {
     "name": "stdout",
     "output_type": "stream",
     "text": [
      "package 'MASS' successfully unpacked and MD5 sums checked\n",
      "\n",
      "The downloaded binary packages are in\n",
      "\tC:\\Users\\Jaswinder Singh\\AppData\\Local\\Temp\\RtmpKwkhY3\\downloaded_packages\n"
     ]
    },
    {
     "name": "stderr",
     "output_type": "stream",
     "text": [
      "Installing package into 'C:/Users/Jaswinder Singh/Documents/R/win-library/4.0'\n",
      "(as 'lib' is unspecified)\n",
      "\n"
     ]
    },
    {
     "name": "stdout",
     "output_type": "stream",
     "text": [
      "package 'pROC' successfully unpacked and MD5 sums checked\n",
      "\n",
      "The downloaded binary packages are in\n",
      "\tC:\\Users\\Jaswinder Singh\\AppData\\Local\\Temp\\RtmpKwkhY3\\downloaded_packages\n"
     ]
    }
   ],
   "source": [
    "install.packages('mlbench')\n",
    "install.packages('MASS')\n",
    "install.packages('pROC')"
   ]
  },
  {
   "cell_type": "code",
   "execution_count": 3,
   "metadata": {},
   "outputs": [
    {
     "name": "stderr",
     "output_type": "stream",
     "text": [
      "Type 'citation(\"pROC\")' for a citation.\n",
      "\n",
      "\n",
      "Attaching package: 'pROC'\n",
      "\n",
      "\n",
      "The following objects are masked from 'package:stats':\n",
      "\n",
      "    cov, smooth, var\n",
      "\n",
      "\n"
     ]
    }
   ],
   "source": [
    "library(mlbench)\n",
    "library(MASS)\n",
    "library(pROC)"
   ]
  },
  {
   "cell_type": "code",
   "execution_count": 4,
   "metadata": {},
   "outputs": [
    {
     "data": {
      "text/html": [
       "<table>\n",
       "<caption>A data.frame: 6 × 9</caption>\n",
       "<thead>\n",
       "\t<tr><th></th><th scope=col>pregnant</th><th scope=col>glucose</th><th scope=col>pressure</th><th scope=col>triceps</th><th scope=col>insulin</th><th scope=col>mass</th><th scope=col>pedigree</th><th scope=col>age</th><th scope=col>diabetes</th></tr>\n",
       "\t<tr><th></th><th scope=col>&lt;dbl&gt;</th><th scope=col>&lt;dbl&gt;</th><th scope=col>&lt;dbl&gt;</th><th scope=col>&lt;dbl&gt;</th><th scope=col>&lt;dbl&gt;</th><th scope=col>&lt;dbl&gt;</th><th scope=col>&lt;dbl&gt;</th><th scope=col>&lt;dbl&gt;</th><th scope=col>&lt;fct&gt;</th></tr>\n",
       "</thead>\n",
       "<tbody>\n",
       "\t<tr><th scope=row>1</th><td>6</td><td>148</td><td>72</td><td>35</td><td> NA</td><td>33.6</td><td>0.627</td><td>50</td><td>pos</td></tr>\n",
       "\t<tr><th scope=row>2</th><td>1</td><td> 85</td><td>66</td><td>29</td><td> NA</td><td>26.6</td><td>0.351</td><td>31</td><td>neg</td></tr>\n",
       "\t<tr><th scope=row>3</th><td>8</td><td>183</td><td>64</td><td>NA</td><td> NA</td><td>23.3</td><td>0.672</td><td>32</td><td>pos</td></tr>\n",
       "\t<tr><th scope=row>4</th><td>1</td><td> 89</td><td>66</td><td>23</td><td> 94</td><td>28.1</td><td>0.167</td><td>21</td><td>neg</td></tr>\n",
       "\t<tr><th scope=row>5</th><td>0</td><td>137</td><td>40</td><td>35</td><td>168</td><td>43.1</td><td>2.288</td><td>33</td><td>pos</td></tr>\n",
       "\t<tr><th scope=row>6</th><td>5</td><td>116</td><td>74</td><td>NA</td><td> NA</td><td>25.6</td><td>0.201</td><td>30</td><td>neg</td></tr>\n",
       "</tbody>\n",
       "</table>\n"
      ],
      "text/latex": [
       "A data.frame: 6 × 9\n",
       "\\begin{tabular}{r|lllllllll}\n",
       "  & pregnant & glucose & pressure & triceps & insulin & mass & pedigree & age & diabetes\\\\\n",
       "  & <dbl> & <dbl> & <dbl> & <dbl> & <dbl> & <dbl> & <dbl> & <dbl> & <fct>\\\\\n",
       "\\hline\n",
       "\t1 & 6 & 148 & 72 & 35 &  NA & 33.6 & 0.627 & 50 & pos\\\\\n",
       "\t2 & 1 &  85 & 66 & 29 &  NA & 26.6 & 0.351 & 31 & neg\\\\\n",
       "\t3 & 8 & 183 & 64 & NA &  NA & 23.3 & 0.672 & 32 & pos\\\\\n",
       "\t4 & 1 &  89 & 66 & 23 &  94 & 28.1 & 0.167 & 21 & neg\\\\\n",
       "\t5 & 0 & 137 & 40 & 35 & 168 & 43.1 & 2.288 & 33 & pos\\\\\n",
       "\t6 & 5 & 116 & 74 & NA &  NA & 25.6 & 0.201 & 30 & neg\\\\\n",
       "\\end{tabular}\n"
      ],
      "text/markdown": [
       "\n",
       "A data.frame: 6 × 9\n",
       "\n",
       "| <!--/--> | pregnant &lt;dbl&gt; | glucose &lt;dbl&gt; | pressure &lt;dbl&gt; | triceps &lt;dbl&gt; | insulin &lt;dbl&gt; | mass &lt;dbl&gt; | pedigree &lt;dbl&gt; | age &lt;dbl&gt; | diabetes &lt;fct&gt; |\n",
       "|---|---|---|---|---|---|---|---|---|---|\n",
       "| 1 | 6 | 148 | 72 | 35 |  NA | 33.6 | 0.627 | 50 | pos |\n",
       "| 2 | 1 |  85 | 66 | 29 |  NA | 26.6 | 0.351 | 31 | neg |\n",
       "| 3 | 8 | 183 | 64 | NA |  NA | 23.3 | 0.672 | 32 | pos |\n",
       "| 4 | 1 |  89 | 66 | 23 |  94 | 28.1 | 0.167 | 21 | neg |\n",
       "| 5 | 0 | 137 | 40 | 35 | 168 | 43.1 | 2.288 | 33 | pos |\n",
       "| 6 | 5 | 116 | 74 | NA |  NA | 25.6 | 0.201 | 30 | neg |\n",
       "\n"
      ],
      "text/plain": [
       "  pregnant glucose pressure triceps insulin mass pedigree age diabetes\n",
       "1 6        148     72       35       NA     33.6 0.627    50  pos     \n",
       "2 1         85     66       29       NA     26.6 0.351    31  neg     \n",
       "3 8        183     64       NA       NA     23.3 0.672    32  pos     \n",
       "4 1         89     66       23       94     28.1 0.167    21  neg     \n",
       "5 0        137     40       35      168     43.1 2.288    33  pos     \n",
       "6 5        116     74       NA       NA     25.6 0.201    30  neg     "
      ]
     },
     "metadata": {},
     "output_type": "display_data"
    }
   ],
   "source": [
    "data(PimaIndiansDiabetes2)\n",
    "head(PimaIndiansDiabetes2)"
   ]
  },
  {
   "cell_type": "code",
   "execution_count": 5,
   "metadata": {},
   "outputs": [
    {
     "data": {
      "text/plain": [
       "    pregnant         glucose         pressure         triceps     \n",
       " Min.   : 0.000   Min.   : 44.0   Min.   : 24.00   Min.   : 7.00  \n",
       " 1st Qu.: 1.000   1st Qu.: 99.0   1st Qu.: 64.00   1st Qu.:22.00  \n",
       " Median : 3.000   Median :117.0   Median : 72.00   Median :29.00  \n",
       " Mean   : 3.845   Mean   :121.7   Mean   : 72.41   Mean   :29.15  \n",
       " 3rd Qu.: 6.000   3rd Qu.:141.0   3rd Qu.: 80.00   3rd Qu.:36.00  \n",
       " Max.   :17.000   Max.   :199.0   Max.   :122.00   Max.   :99.00  \n",
       "                  NA's   :5       NA's   :35       NA's   :227    \n",
       "    insulin            mass          pedigree           age        diabetes \n",
       " Min.   : 14.00   Min.   :18.20   Min.   :0.0780   Min.   :21.00   neg:500  \n",
       " 1st Qu.: 76.25   1st Qu.:27.50   1st Qu.:0.2437   1st Qu.:24.00   pos:268  \n",
       " Median :125.00   Median :32.30   Median :0.3725   Median :29.00            \n",
       " Mean   :155.55   Mean   :32.46   Mean   :0.4719   Mean   :33.24            \n",
       " 3rd Qu.:190.00   3rd Qu.:36.60   3rd Qu.:0.6262   3rd Qu.:41.00            \n",
       " Max.   :846.00   Max.   :67.10   Max.   :2.4200   Max.   :81.00            \n",
       " NA's   :374      NA's   :11                                                "
      ]
     },
     "metadata": {},
     "output_type": "display_data"
    }
   ],
   "source": [
    "summary(PimaIndiansDiabetes2)"
   ]
  },
  {
   "cell_type": "code",
   "execution_count": 6,
   "metadata": {},
   "outputs": [
    {
     "data": {
      "text/plain": [
       "    pregnant         glucose         pressure         triceps     \n",
       " Min.   : 0.000   Min.   : 56.0   Min.   : 24.00   Min.   : 7.00  \n",
       " 1st Qu.: 1.000   1st Qu.: 99.0   1st Qu.: 62.00   1st Qu.:21.00  \n",
       " Median : 2.000   Median :119.0   Median : 70.00   Median :29.00  \n",
       " Mean   : 3.301   Mean   :122.6   Mean   : 70.66   Mean   :29.15  \n",
       " 3rd Qu.: 5.000   3rd Qu.:143.0   3rd Qu.: 78.00   3rd Qu.:37.00  \n",
       " Max.   :17.000   Max.   :198.0   Max.   :110.00   Max.   :63.00  \n",
       "    insulin            mass          pedigree           age        diabetes \n",
       " Min.   : 14.00   Min.   :18.20   Min.   :0.0850   Min.   :21.00   neg:262  \n",
       " 1st Qu.: 76.75   1st Qu.:28.40   1st Qu.:0.2697   1st Qu.:23.00   pos:130  \n",
       " Median :125.50   Median :33.20   Median :0.4495   Median :27.00            \n",
       " Mean   :156.06   Mean   :33.09   Mean   :0.5230   Mean   :30.86            \n",
       " 3rd Qu.:190.00   3rd Qu.:37.10   3rd Qu.:0.6870   3rd Qu.:36.00            \n",
       " Max.   :846.00   Max.   :67.10   Max.   :2.4200   Max.   :81.00            "
      ]
     },
     "metadata": {},
     "output_type": "display_data"
    }
   ],
   "source": [
    "newdata <- na.omit(PimaIndiansDiabetes2)\n",
    "summary(newdata)"
   ]
  },
  {
   "cell_type": "code",
   "execution_count": 7,
   "metadata": {},
   "outputs": [
    {
     "data": {
      "image/png": "[encoded data removed]",
      "text/plain": [
       "Plot with title \"age\""
      ]
     },
     "metadata": {
      "image/png": {
       "height": 420,
       "width": 420
      }
     },
     "output_type": "display_data"
    }
   ],
   "source": [
    "par(mfrow = c(4,2))\n",
    "for(i in 1:8) {\n",
    "    hist(newdata[,i], main = colnames(newdata)[i], xlab = colnames(newdata)[i], col = 'yellow')\n",
    "}  "
   ]
  },
  {
   "cell_type": "code",
   "execution_count": 8,
   "metadata": {},
   "outputs": [],
   "source": [
    "newdata$age_bucket <- as.factor(ifelse(newdata$age<=30,\"20-30\",\n",
    "                                       ifelse(newdata$age<=40,\"31-40\",\n",
    "                                              ifelse(newdata$age<=50,\"41-50\",\"50+\"))))"
   ]
  },
  {
   "cell_type": "code",
   "execution_count": 9,
   "metadata": {},
   "outputs": [],
   "source": [
    "newdata$preg_bucket <- as.factor(ifelse(newdata$pregnant<=5,\"0–5\",\n",
    "                                        ifelse(newdata$pregnant<=10,\"6–10\",\"10+\")))"
   ]
  },
  {
   "cell_type": "code",
   "execution_count": 10,
   "metadata": {},
   "outputs": [
    {
     "data": {
      "image/png": "[encoded data removed]",
      "text/plain": [
       "plot without title"
      ]
     },
     "metadata": {
      "image/png": {
       "height": 420,
       "width": 420
      }
     },
     "output_type": "display_data"
    }
   ],
   "source": [
    "par(mfrow = c(3,2))\n",
    "boxplot(glucose~diabetes, ylab=\"Glucose\", xlab= \"Diabetes\", col=\"light blue\",data = newdata)\n",
    "boxplot(pressure~diabetes, ylab=\"Pressure\", xlab= \"Diabetes\", col=\"light blue\",data = newdata)\n",
    "boxplot(triceps~diabetes, ylab=\"triceps\", xlab= \"Diabetes\", col=\"light blue\",data = newdata)\n",
    "boxplot(insulin~diabetes, ylab=\"Insulin\", xlab= \"Diabetes\", col=\"light blue\",data = newdata)\n",
    "boxplot(mass~diabetes, ylab=\"Mass\", xlab= \"Diabetes\", col=\"light blue\",data = newdata)\n",
    "boxplot(pedigree~diabetes, ylab=\"Pedigree\", xlab= \"Diabetes\", col=\"light blue\",data = newdata)"
   ]
  },
  {
   "cell_type": "code",
   "execution_count": 11,
   "metadata": {},
   "outputs": [
    {
     "data": {
      "text/plain": [
       "        age_bucket\n",
       "diabetes 20-30 31-40 41-50 50+\n",
       "     neg   197    39    18   8\n",
       "     pos    51    35    24  20"
      ]
     },
     "metadata": {},
     "output_type": "display_data"
    },
    {
     "data": {
      "text/plain": [
       "        preg_bucket\n",
       "diabetes 0–5 10+ 6–10\n",
       "     neg 222   4   36\n",
       "     pos  84  12   34"
      ]
     },
     "metadata": {},
     "output_type": "display_data"
    }
   ],
   "source": [
    "xtabs(~diabetes + age_bucket, data = newdata)\n",
    "xtabs(~diabetes + preg_bucket, data = newdata)"
   ]
  },
  {
   "cell_type": "code",
   "execution_count": 12,
   "metadata": {},
   "outputs": [],
   "source": [
    "newdata2 <- newdata[,c(\"diabetes\",\"glucose\",\"pressure\",\"triceps\",\"insulin\",\"mass\",\"pedigree\",\"age_bucket\",\"preg_bucket\")]"
   ]
  },
  {
   "cell_type": "code",
   "execution_count": 14,
   "metadata": {},
   "outputs": [
    {
     "data": {
      "text/html": [
       "<table>\n",
       "<caption>A data.frame: 6 × 9</caption>\n",
       "<thead>\n",
       "\t<tr><th></th><th scope=col>diabetes</th><th scope=col>glucose</th><th scope=col>pressure</th><th scope=col>triceps</th><th scope=col>insulin</th><th scope=col>mass</th><th scope=col>pedigree</th><th scope=col>age_bucket</th><th scope=col>preg_bucket</th></tr>\n",
       "\t<tr><th></th><th scope=col>&lt;fct&gt;</th><th scope=col>&lt;dbl&gt;</th><th scope=col>&lt;dbl&gt;</th><th scope=col>&lt;dbl&gt;</th><th scope=col>&lt;dbl&gt;</th><th scope=col>&lt;dbl&gt;</th><th scope=col>&lt;dbl&gt;</th><th scope=col>&lt;fct&gt;</th><th scope=col>&lt;fct&gt;</th></tr>\n",
       "</thead>\n",
       "<tbody>\n",
       "\t<tr><th scope=row>4</th><td>neg</td><td> 89</td><td>66</td><td>23</td><td> 94</td><td>28.1</td><td>0.167</td><td>20-30</td><td>0–5</td></tr>\n",
       "\t<tr><th scope=row>5</th><td>pos</td><td>137</td><td>40</td><td>35</td><td>168</td><td>43.1</td><td>2.288</td><td>31-40</td><td>0–5</td></tr>\n",
       "\t<tr><th scope=row>7</th><td>pos</td><td> 78</td><td>50</td><td>32</td><td> 88</td><td>31.0</td><td>0.248</td><td>20-30</td><td>0–5</td></tr>\n",
       "\t<tr><th scope=row>9</th><td>pos</td><td>197</td><td>70</td><td>45</td><td>543</td><td>30.5</td><td>0.158</td><td>50+  </td><td>0–5</td></tr>\n",
       "\t<tr><th scope=row>14</th><td>pos</td><td>189</td><td>60</td><td>23</td><td>846</td><td>30.1</td><td>0.398</td><td>50+  </td><td>0–5</td></tr>\n",
       "\t<tr><th scope=row>15</th><td>pos</td><td>166</td><td>72</td><td>19</td><td>175</td><td>25.8</td><td>0.587</td><td>50+  </td><td>0–5</td></tr>\n",
       "</tbody>\n",
       "</table>\n"
      ],
      "text/latex": [
       "A data.frame: 6 × 9\n",
       "\\begin{tabular}{r|lllllllll}\n",
       "  & diabetes & glucose & pressure & triceps & insulin & mass & pedigree & age\\_bucket & preg\\_bucket\\\\\n",
       "  & <fct> & <dbl> & <dbl> & <dbl> & <dbl> & <dbl> & <dbl> & <fct> & <fct>\\\\\n",
       "\\hline\n",
       "\t4 & neg &  89 & 66 & 23 &  94 & 28.1 & 0.167 & 20-30 & 0–5\\\\\n",
       "\t5 & pos & 137 & 40 & 35 & 168 & 43.1 & 2.288 & 31-40 & 0–5\\\\\n",
       "\t7 & pos &  78 & 50 & 32 &  88 & 31.0 & 0.248 & 20-30 & 0–5\\\\\n",
       "\t9 & pos & 197 & 70 & 45 & 543 & 30.5 & 0.158 & 50+   & 0–5\\\\\n",
       "\t14 & pos & 189 & 60 & 23 & 846 & 30.1 & 0.398 & 50+   & 0–5\\\\\n",
       "\t15 & pos & 166 & 72 & 19 & 175 & 25.8 & 0.587 & 50+   & 0–5\\\\\n",
       "\\end{tabular}\n"
      ],
      "text/markdown": [
       "\n",
       "A data.frame: 6 × 9\n",
       "\n",
       "| <!--/--> | diabetes &lt;fct&gt; | glucose &lt;dbl&gt; | pressure &lt;dbl&gt; | triceps &lt;dbl&gt; | insulin &lt;dbl&gt; | mass &lt;dbl&gt; | pedigree &lt;dbl&gt; | age_bucket &lt;fct&gt; | preg_bucket &lt;fct&gt; |\n",
       "|---|---|---|---|---|---|---|---|---|---|\n",
       "| 4 | neg |  89 | 66 | 23 |  94 | 28.1 | 0.167 | 20-30 | 0–5 |\n",
       "| 5 | pos | 137 | 40 | 35 | 168 | 43.1 | 2.288 | 31-40 | 0–5 |\n",
       "| 7 | pos |  78 | 50 | 32 |  88 | 31.0 | 0.248 | 20-30 | 0–5 |\n",
       "| 9 | pos | 197 | 70 | 45 | 543 | 30.5 | 0.158 | 50+   | 0–5 |\n",
       "| 14 | pos | 189 | 60 | 23 | 846 | 30.1 | 0.398 | 50+   | 0–5 |\n",
       "| 15 | pos | 166 | 72 | 19 | 175 | 25.8 | 0.587 | 50+   | 0–5 |\n",
       "\n"
      ],
      "text/plain": [
       "   diabetes glucose pressure triceps insulin mass pedigree age_bucket\n",
       "4  neg       89     66       23       94     28.1 0.167    20-30     \n",
       "5  pos      137     40       35      168     43.1 2.288    31-40     \n",
       "7  pos       78     50       32       88     31.0 0.248    20-30     \n",
       "9  pos      197     70       45      543     30.5 0.158    50+       \n",
       "14 pos      189     60       23      846     30.1 0.398    50+       \n",
       "15 pos      166     72       19      175     25.8 0.587    50+       \n",
       "   preg_bucket\n",
       "4  0–5        \n",
       "5  0–5        \n",
       "7  0–5        \n",
       "9  0–5        \n",
       "14 0–5        \n",
       "15 0–5        "
      ]
     },
     "metadata": {},
     "output_type": "display_data"
    }
   ],
   "source": [
    "head(newdata2)"
   ]
  },
  {
   "cell_type": "code",
   "execution_count": 15,
   "metadata": {},
   "outputs": [],
   "source": [
    "logit_1 <- glm(diabetes~., family = binomial,data = newdata2)\n"
   ]
  },
  {
   "cell_type": "code",
   "execution_count": 16,
   "metadata": {},
   "outputs": [
    {
     "data": {
      "text/plain": [
       "\n",
       "Call:\n",
       "glm(formula = diabetes ~ ., family = binomial, data = newdata2)\n",
       "\n",
       "Deviance Residuals: \n",
       "    Min       1Q   Median       3Q      Max  \n",
       "-2.8862  -0.6414  -0.3546   0.5900   2.6253  \n",
       "\n",
       "Coefficients:\n",
       "                  Estimate Std. Error z value Pr(>|z|)    \n",
       "(Intercept)     -8.8655465  1.1691937  -7.583 3.39e-14 ***\n",
       "glucose          0.0392471  0.0059152   6.635 3.25e-11 ***\n",
       "pressure        -0.0045595  0.0119562  -0.381  0.70294    \n",
       "triceps          0.0147965  0.0173948   0.851  0.39497    \n",
       "insulin         -0.0006838  0.0013559  -0.504  0.61402    \n",
       "mass             0.0630043  0.0273349   2.305  0.02117 *  \n",
       "pedigree         1.0165275  0.4388864   2.316  0.02055 *  \n",
       "age_bucket31-40  0.8544642  0.3767035   2.268  0.02331 *  \n",
       "age_bucket41-50  1.5745534  0.5203173   3.026  0.00248 ** \n",
       "age_bucket50+    1.3840205  0.6367486   2.174  0.02974 *  \n",
       "preg_bucket10+   0.8284550  0.7673085   1.080  0.28028    \n",
       "preg_bucket6–10 -0.2430053  0.4202225  -0.578  0.56308    \n",
       "---\n",
       "Signif. codes:  0 '***' 0.001 '**' 0.01 '*' 0.05 '.' 0.1 ' ' 1\n",
       "\n",
       "(Dispersion parameter for binomial family taken to be 1)\n",
       "\n",
       "    Null deviance: 498.10  on 391  degrees of freedom\n",
       "Residual deviance: 337.98  on 380  degrees of freedom\n",
       "AIC: 361.98\n",
       "\n",
       "Number of Fisher Scoring iterations: 5\n"
      ]
     },
     "metadata": {},
     "output_type": "display_data"
    }
   ],
   "source": [
    "summary(logit_1)\n"
   ]
  },
  {
   "cell_type": "code",
   "execution_count": 18,
   "metadata": {},
   "outputs": [
    {
     "name": "stdout",
     "output_type": "stream",
     "text": [
      "Start:  AIC=361.98\n",
      "diabetes ~ glucose + pressure + triceps + insulin + mass + pedigree + \n",
      "    age_bucket + preg_bucket\n",
      "\n",
      "              Df Deviance    AIC\n",
      "- pressure     1   338.13 360.13\n",
      "- insulin      1   338.24 360.24\n",
      "- preg_bucket  2   340.36 360.36\n",
      "- triceps      1   338.71 360.71\n",
      "<none>             337.98 361.98\n",
      "- mass         1   343.41 365.41\n",
      "- pedigree     1   343.61 365.61\n",
      "- age_bucket   3   349.12 367.12\n",
      "- glucose      1   391.66 413.66\n",
      "\n",
      "Step:  AIC=360.13\n",
      "diabetes ~ glucose + triceps + insulin + mass + pedigree + age_bucket + \n",
      "    preg_bucket\n",
      "\n",
      "              Df Deviance    AIC\n",
      "- insulin      1   338.36 358.36\n",
      "- preg_bucket  2   340.43 358.43\n",
      "- triceps      1   338.84 358.84\n",
      "<none>             338.13 360.13\n",
      "- mass         1   343.49 363.49\n",
      "- pedigree     1   343.89 363.89\n",
      "- age_bucket   3   349.25 365.25\n",
      "- glucose      1   391.88 411.88\n",
      "\n",
      "Step:  AIC=358.36\n",
      "diabetes ~ glucose + triceps + mass + pedigree + age_bucket + \n",
      "    preg_bucket\n",
      "\n",
      "              Df Deviance    AIC\n",
      "- preg_bucket  2   340.79 356.79\n",
      "- triceps      1   339.10 357.10\n",
      "<none>             338.36 358.36\n",
      "- mass         1   343.49 361.49\n",
      "- pedigree     1   344.00 362.00\n",
      "- age_bucket   3   349.53 363.53\n",
      "- glucose      1   406.62 424.62\n",
      "\n",
      "Step:  AIC=356.79\n",
      "diabetes ~ glucose + triceps + mass + pedigree + age_bucket\n",
      "\n",
      "             Df Deviance    AIC\n",
      "- triceps     1   341.42 355.42\n",
      "<none>            340.79 356.79\n",
      "- mass        1   346.32 360.32\n",
      "- pedigree    1   346.82 360.82\n",
      "- age_bucket  3   361.77 371.77\n",
      "- glucose     1   408.50 422.50\n",
      "\n",
      "Step:  AIC=355.42\n",
      "diabetes ~ glucose + mass + pedigree + age_bucket\n",
      "\n",
      "             Df Deviance    AIC\n",
      "<none>            341.42 355.42\n",
      "- pedigree    1   347.78 359.78\n",
      "- mass        1   355.10 367.10\n",
      "- age_bucket  3   363.70 371.70\n",
      "- glucose     1   409.44 421.44\n"
     ]
    }
   ],
   "source": [
    "logit_2 <- stepAIC(logit_1)\n"
   ]
  },
  {
   "cell_type": "code",
   "execution_count": 20,
   "metadata": {},
   "outputs": [
    {
     "data": {
      "text/plain": [
       "\n",
       "Call:\n",
       "glm(formula = diabetes ~ glucose + mass + pedigree + age_bucket, \n",
       "    family = binomial, data = newdata2)\n",
       "\n",
       "Deviance Residuals: \n",
       "    Min       1Q   Median       3Q      Max  \n",
       "-2.9485  -0.6356  -0.3625   0.6233   2.6759  \n",
       "\n",
       "Coefficients:\n",
       "                 Estimate Std. Error z value Pr(>|z|)    \n",
       "(Intercept)     -8.995423   1.008994  -8.915  < 2e-16 ***\n",
       "glucose          0.037429   0.005086   7.360 1.84e-13 ***\n",
       "mass             0.072975   0.020377   3.581 0.000342 ***\n",
       "pedigree         1.055869   0.430381   2.453 0.014154 *  \n",
       "age_bucket31-40  0.818513   0.334366   2.448 0.014367 *  \n",
       "age_bucket41-50  1.633945   0.399650   4.088 4.34e-05 ***\n",
       "age_bucket50+    1.352995   0.528396   2.561 0.010450 *  \n",
       "---\n",
       "Signif. codes:  0 '***' 0.001 '**' 0.01 '*' 0.05 '.' 0.1 ' ' 1\n",
       "\n",
       "(Dispersion parameter for binomial family taken to be 1)\n",
       "\n",
       "    Null deviance: 498.10  on 391  degrees of freedom\n",
       "Residual deviance: 341.42  on 385  degrees of freedom\n",
       "AIC: 355.42\n",
       "\n",
       "Number of Fisher Scoring iterations: 5\n"
      ]
     },
     "metadata": {},
     "output_type": "display_data"
    }
   ],
   "source": [
    "summary(logit_2)"
   ]
  },
  {
   "cell_type": "code",
   "execution_count": 21,
   "metadata": {},
   "outputs": [
    {
     "data": {
      "text/plain": [
       "    Min.  1st Qu.   Median     Mean  3rd Qu.     Max. \n",
       "0.008302 0.092072 0.227511 0.331633 0.558330 0.990355 "
      ]
     },
     "metadata": {},
     "output_type": "display_data"
    }
   ],
   "source": [
    "summary(logit_2$fitted.values)"
   ]
  },
  {
   "cell_type": "code",
   "execution_count": 24,
   "metadata": {},
   "outputs": [
    {
     "data": {
      "image/png": "[encoded data removed]",
      "text/plain": [
       "Plot with title \" Histogram \""
      ]
     },
     "metadata": {
      "image/png": {
       "height": 420,
       "width": 420
      }
     },
     "output_type": "display_data"
    }
   ],
   "source": [
    "hist(logit_2$fitted.values,main = \" Histogram \",xlab = \"Probability of 'pos' diabetes\", col = 'red')"
   ]
  },
  {
   "cell_type": "code",
   "execution_count": 25,
   "metadata": {},
   "outputs": [],
   "source": [
    "newdata2$Predict <- ifelse(logit_2$fitted.values >0.5,\"pos\",\"neg\")"
   ]
  },
  {
   "cell_type": "code",
   "execution_count": 26,
   "metadata": {},
   "outputs": [
    {
     "data": {
      "text/html": [
       "361.983838211104"
      ],
      "text/latex": [
       "361.983838211104"
      ],
      "text/markdown": [
       "361.983838211104"
      ],
      "text/plain": [
       "[1] 361.9838"
      ]
     },
     "metadata": {},
     "output_type": "display_data"
    },
    {
     "data": {
      "text/html": [
       "355.415872689484"
      ],
      "text/latex": [
       "355.415872689484"
      ],
      "text/markdown": [
       "355.415872689484"
      ],
      "text/plain": [
       "[1] 355.4159"
      ]
     },
     "metadata": {},
     "output_type": "display_data"
    }
   ],
   "source": [
    "logit_1$aic\n",
    "logit_2$aic"
   ]
  },
  {
   "cell_type": "code",
   "execution_count": 27,
   "metadata": {},
   "outputs": [
    {
     "data": {
      "text/plain": [
       "          \n",
       "           Pred. neg Pred. pos\n",
       "  Obs. neg       237        25\n",
       "  Obs. pos        48        82"
      ]
     },
     "metadata": {},
     "output_type": "display_data"
    }
   ],
   "source": [
    "mytable <- table(newdata2$diabetes,newdata2$Predict)\n",
    "rownames(mytable) <- c(\"Obs. neg\",\"Obs. pos\")\n",
    "colnames(mytable) <- c(\"Pred. neg\",\"Pred. pos\")\n",
    "mytable"
   ]
  },
  {
   "cell_type": "code",
   "execution_count": 28,
   "metadata": {},
   "outputs": [
    {
     "data": {
      "text/html": [
       "0.813775510204082"
      ],
      "text/latex": [
       "0.813775510204082"
      ],
      "text/markdown": [
       "0.813775510204082"
      ],
      "text/plain": [
       "[1] 0.8137755"
      ]
     },
     "metadata": {},
     "output_type": "display_data"
    }
   ],
   "source": [
    "efficiency <- sum(diag(mytable))/sum(mytable)\n",
    "efficiency"
   ]
  },
  {
   "cell_type": "code",
   "execution_count": 29,
   "metadata": {},
   "outputs": [
    {
     "name": "stderr",
     "output_type": "stream",
     "text": [
      "Setting levels: control = neg, case = pos\n",
      "\n",
      "Setting direction: controls < cases\n",
      "\n"
     ]
    },
    {
     "data": {
      "text/plain": [
       "\n",
       "Call:\n",
       "roc.formula(formula = diabetes ~ logit_2$fitted.values, data = newdata2,     plot = TRUE, main = \"ROC CURVE\", col = \"blue\")\n",
       "\n",
       "Data: logit_2$fitted.values in 262 controls (diabetes neg) < 130 cases (diabetes pos).\n",
       "Area under the curve: 0.8631"
      ]
     },
     "metadata": {},
     "output_type": "display_data"
    },
    {
     "data": {
      "image/png": "[encoded data removed]",
      "text/plain": [
       "Plot with title \"ROC CURVE\""
      ]
     },
     "metadata": {
      "image/png": {
       "height": 420,
       "width": 420
      }
     },
     "output_type": "display_data"
    }
   ],
   "source": [
    "roc(diabetes~logit_2$fitted.values, data = newdata2, plot = TRUE, main = \"ROC CURVE\", col= \"blue\")"
   ]
  },
  {
   "cell_type": "code",
   "execution_count": 30,
   "metadata": {},
   "outputs": [
    {
     "name": "stderr",
     "output_type": "stream",
     "text": [
      "Setting levels: control = neg, case = pos\n",
      "\n",
      "Setting direction: controls < cases\n",
      "\n"
     ]
    },
    {
     "data": {
      "text/html": [
       "0.863065179095713"
      ],
      "text/latex": [
       "0.863065179095713"
      ],
      "text/markdown": [
       "0.863065179095713"
      ],
      "text/plain": [
       "Area under the curve: 0.8631"
      ]
     },
     "metadata": {},
     "output_type": "display_data"
    }
   ],
   "source": [
    "auc(diabetes~logit_2$fitted.values, data = newdata2)\n"
   ]
  },
  {
   "cell_type": "code",
   "execution_count": null,
   "metadata": {},
   "outputs": [],
   "source": []
  },
  {
   "cell_type": "code",
   "execution_count": null,
   "metadata": {},
   "outputs": [],
   "source": []
  },
  {
   "cell_type": "code",
   "execution_count": null,
   "metadata": {},
   "outputs": [],
   "source": []
  },
  {
   "cell_type": "code",
   "execution_count": null,
   "metadata": {},
   "outputs": [],
   "source": []
  }
 ],
 "metadata": {
  "kernelspec": {
   "display_name": "R",
   "language": "R",
   "name": "ir"
  },
  "language_info": {
   "codemirror_mode": "r",
   "file_extension": ".r",
   "mimetype": "text/x-r-source",
   "name": "R",
   "pygments_lexer": "r",
   "version": "4.0.3"
  }
 },
 "nbformat": 4,
 "nbformat_minor": 4
}
